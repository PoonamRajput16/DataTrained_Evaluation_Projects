{
 "cells": [
  {
   "cell_type": "markdown",
   "id": "66c84223",
   "metadata": {},
   "source": [
    "@@@@@@@@@@@@@@@@@@@@@@@@@@@@@@@@@@@@@@@@@@@@@@@@@@@@@@@@@@@@@@@@@@@@@"
   ]
  },
  {
   "cell_type": "markdown",
   "id": "a33da911",
   "metadata": {},
   "source": [
    "# Loan Application Status Prediction"
   ]
  },
  {
   "cell_type": "markdown",
   "id": "c344164a",
   "metadata": {},
   "source": [
    "@@@@@@@@@@@@@@@@@@@@@@@@@@@@@@@@@@@@@@@@@@@@@@@@@@@@@@@@@@@@@@@@@@@@@"
   ]
  },
  {
   "cell_type": "markdown",
   "id": "0981359e",
   "metadata": {},
   "source": [
    "### Problem Statement:"
   ]
  },
  {
   "cell_type": "markdown",
   "id": "3762f332",
   "metadata": {},
   "source": [
    "    This dataset includes details of applicants who have applied for loan. The dataset includes details like credit history, loan amount, their income, dependents etc. \n"
   ]
  },
  {
   "cell_type": "markdown",
   "id": "d7edf110",
   "metadata": {},
   "source": [
    "#### Independent Variables:\n"
   ]
  },
  {
   "cell_type": "markdown",
   "id": "ad0bc757",
   "metadata": {},
   "source": [
    "\n",
    "\n",
    "- Loan_ID\n",
    "\n",
    "- Gender\n",
    "\n",
    "- Married\n",
    "\n",
    "- Dependents\n",
    "\n",
    "- Education\n",
    "\n",
    "- Self_Employed\n",
    "\n",
    "- ApplicantIncome\n",
    "\n",
    "- CoapplicantIncome\n",
    "\n",
    "- Loan_Amount\n",
    "\n",
    "- Loan_Amount_Term\n",
    "\n",
    "- Credit History\n",
    "\n",
    "- Property_Area\n",
    "\n"
   ]
  },
  {
   "cell_type": "markdown",
   "id": "0556dd33",
   "metadata": {},
   "source": [
    "#### Dependent Variable (Target Variable):\n",
    "\n"
   ]
  },
  {
   "cell_type": "markdown",
   "id": "22266c78",
   "metadata": {},
   "source": [
    "- Loan_Status\n",
    "\n"
   ]
  },
  {
   "cell_type": "markdown",
   "id": "eca3b034",
   "metadata": {},
   "source": [
    "### Task"
   ]
  },
  {
   "cell_type": "markdown",
   "id": "c201e5ed",
   "metadata": {},
   "source": [
    "    Need to build a model that can predict whether the loan of the applicant will be approved or not on the basis of the details provided in the dataset. "
   ]
  },
  {
   "cell_type": "code",
   "execution_count": 1,
   "id": "18101602",
   "metadata": {},
   "outputs": [],
   "source": [
    "#Importing Libraries\n",
    "\n",
    "import numpy as np\n",
    "import pandas as pd\n",
    "import seaborn as sns\n",
    "import matplotlib.pyplot as plt\n",
    "%matplotlib inline\n",
    "\n",
    "from sklearn.model_selection import train_test_split\n",
    "from sklearn.metrics import accuracy_score,confusion_matrix,classification_report\n",
    "from sklearn.model_selection import cross_val_score\n",
    "\n",
    "import warnings\n",
    "warnings.filterwarnings('ignore')"
   ]
  },
  {
   "cell_type": "code",
   "execution_count": 2,
   "id": "e36f4b95",
   "metadata": {},
   "outputs": [],
   "source": [
    "#Extracting dataset and saving dataset in a variable\n",
    "\n",
    "data = pd.read_csv('https://raw.githubusercontent.com/dsrscientist/DSData/master/loan_prediction.csv')"
   ]
  },
  {
   "cell_type": "code",
   "execution_count": 3,
   "id": "6e1d87d2",
   "metadata": {},
   "outputs": [
    {
     "data": {
      "text/html": [
       "<div>\n",
       "<style scoped>\n",
       "    .dataframe tbody tr th:only-of-type {\n",
       "        vertical-align: middle;\n",
       "    }\n",
       "\n",
       "    .dataframe tbody tr th {\n",
       "        vertical-align: top;\n",
       "    }\n",
       "\n",
       "    .dataframe thead th {\n",
       "        text-align: right;\n",
       "    }\n",
       "</style>\n",
       "<table border=\"1\" class=\"dataframe\">\n",
       "  <thead>\n",
       "    <tr style=\"text-align: right;\">\n",
       "      <th></th>\n",
       "      <th>Loan_ID</th>\n",
       "      <th>Gender</th>\n",
       "      <th>Married</th>\n",
       "      <th>Dependents</th>\n",
       "      <th>Education</th>\n",
       "      <th>Self_Employed</th>\n",
       "      <th>ApplicantIncome</th>\n",
       "      <th>CoapplicantIncome</th>\n",
       "      <th>LoanAmount</th>\n",
       "      <th>Loan_Amount_Term</th>\n",
       "      <th>Credit_History</th>\n",
       "      <th>Property_Area</th>\n",
       "      <th>Loan_Status</th>\n",
       "    </tr>\n",
       "  </thead>\n",
       "  <tbody>\n",
       "    <tr>\n",
       "      <th>0</th>\n",
       "      <td>LP001002</td>\n",
       "      <td>Male</td>\n",
       "      <td>No</td>\n",
       "      <td>0</td>\n",
       "      <td>Graduate</td>\n",
       "      <td>No</td>\n",
       "      <td>5849</td>\n",
       "      <td>0.0</td>\n",
       "      <td>NaN</td>\n",
       "      <td>360.0</td>\n",
       "      <td>1.0</td>\n",
       "      <td>Urban</td>\n",
       "      <td>Y</td>\n",
       "    </tr>\n",
       "    <tr>\n",
       "      <th>1</th>\n",
       "      <td>LP001003</td>\n",
       "      <td>Male</td>\n",
       "      <td>Yes</td>\n",
       "      <td>1</td>\n",
       "      <td>Graduate</td>\n",
       "      <td>No</td>\n",
       "      <td>4583</td>\n",
       "      <td>1508.0</td>\n",
       "      <td>128.0</td>\n",
       "      <td>360.0</td>\n",
       "      <td>1.0</td>\n",
       "      <td>Rural</td>\n",
       "      <td>N</td>\n",
       "    </tr>\n",
       "    <tr>\n",
       "      <th>2</th>\n",
       "      <td>LP001005</td>\n",
       "      <td>Male</td>\n",
       "      <td>Yes</td>\n",
       "      <td>0</td>\n",
       "      <td>Graduate</td>\n",
       "      <td>Yes</td>\n",
       "      <td>3000</td>\n",
       "      <td>0.0</td>\n",
       "      <td>66.0</td>\n",
       "      <td>360.0</td>\n",
       "      <td>1.0</td>\n",
       "      <td>Urban</td>\n",
       "      <td>Y</td>\n",
       "    </tr>\n",
       "    <tr>\n",
       "      <th>3</th>\n",
       "      <td>LP001006</td>\n",
       "      <td>Male</td>\n",
       "      <td>Yes</td>\n",
       "      <td>0</td>\n",
       "      <td>Not Graduate</td>\n",
       "      <td>No</td>\n",
       "      <td>2583</td>\n",
       "      <td>2358.0</td>\n",
       "      <td>120.0</td>\n",
       "      <td>360.0</td>\n",
       "      <td>1.0</td>\n",
       "      <td>Urban</td>\n",
       "      <td>Y</td>\n",
       "    </tr>\n",
       "    <tr>\n",
       "      <th>4</th>\n",
       "      <td>LP001008</td>\n",
       "      <td>Male</td>\n",
       "      <td>No</td>\n",
       "      <td>0</td>\n",
       "      <td>Graduate</td>\n",
       "      <td>No</td>\n",
       "      <td>6000</td>\n",
       "      <td>0.0</td>\n",
       "      <td>141.0</td>\n",
       "      <td>360.0</td>\n",
       "      <td>1.0</td>\n",
       "      <td>Urban</td>\n",
       "      <td>Y</td>\n",
       "    </tr>\n",
       "    <tr>\n",
       "      <th>5</th>\n",
       "      <td>LP001011</td>\n",
       "      <td>Male</td>\n",
       "      <td>Yes</td>\n",
       "      <td>2</td>\n",
       "      <td>Graduate</td>\n",
       "      <td>Yes</td>\n",
       "      <td>5417</td>\n",
       "      <td>4196.0</td>\n",
       "      <td>267.0</td>\n",
       "      <td>360.0</td>\n",
       "      <td>1.0</td>\n",
       "      <td>Urban</td>\n",
       "      <td>Y</td>\n",
       "    </tr>\n",
       "    <tr>\n",
       "      <th>6</th>\n",
       "      <td>LP001013</td>\n",
       "      <td>Male</td>\n",
       "      <td>Yes</td>\n",
       "      <td>0</td>\n",
       "      <td>Not Graduate</td>\n",
       "      <td>No</td>\n",
       "      <td>2333</td>\n",
       "      <td>1516.0</td>\n",
       "      <td>95.0</td>\n",
       "      <td>360.0</td>\n",
       "      <td>1.0</td>\n",
       "      <td>Urban</td>\n",
       "      <td>Y</td>\n",
       "    </tr>\n",
       "    <tr>\n",
       "      <th>7</th>\n",
       "      <td>LP001014</td>\n",
       "      <td>Male</td>\n",
       "      <td>Yes</td>\n",
       "      <td>3+</td>\n",
       "      <td>Graduate</td>\n",
       "      <td>No</td>\n",
       "      <td>3036</td>\n",
       "      <td>2504.0</td>\n",
       "      <td>158.0</td>\n",
       "      <td>360.0</td>\n",
       "      <td>0.0</td>\n",
       "      <td>Semiurban</td>\n",
       "      <td>N</td>\n",
       "    </tr>\n",
       "    <tr>\n",
       "      <th>8</th>\n",
       "      <td>LP001018</td>\n",
       "      <td>Male</td>\n",
       "      <td>Yes</td>\n",
       "      <td>2</td>\n",
       "      <td>Graduate</td>\n",
       "      <td>No</td>\n",
       "      <td>4006</td>\n",
       "      <td>1526.0</td>\n",
       "      <td>168.0</td>\n",
       "      <td>360.0</td>\n",
       "      <td>1.0</td>\n",
       "      <td>Urban</td>\n",
       "      <td>Y</td>\n",
       "    </tr>\n",
       "    <tr>\n",
       "      <th>9</th>\n",
       "      <td>LP001020</td>\n",
       "      <td>Male</td>\n",
       "      <td>Yes</td>\n",
       "      <td>1</td>\n",
       "      <td>Graduate</td>\n",
       "      <td>No</td>\n",
       "      <td>12841</td>\n",
       "      <td>10968.0</td>\n",
       "      <td>349.0</td>\n",
       "      <td>360.0</td>\n",
       "      <td>1.0</td>\n",
       "      <td>Semiurban</td>\n",
       "      <td>N</td>\n",
       "    </tr>\n",
       "  </tbody>\n",
       "</table>\n",
       "</div>"
      ],
      "text/plain": [
       "    Loan_ID Gender Married Dependents     Education Self_Employed  \\\n",
       "0  LP001002   Male      No          0      Graduate            No   \n",
       "1  LP001003   Male     Yes          1      Graduate            No   \n",
       "2  LP001005   Male     Yes          0      Graduate           Yes   \n",
       "3  LP001006   Male     Yes          0  Not Graduate            No   \n",
       "4  LP001008   Male      No          0      Graduate            No   \n",
       "5  LP001011   Male     Yes          2      Graduate           Yes   \n",
       "6  LP001013   Male     Yes          0  Not Graduate            No   \n",
       "7  LP001014   Male     Yes         3+      Graduate            No   \n",
       "8  LP001018   Male     Yes          2      Graduate            No   \n",
       "9  LP001020   Male     Yes          1      Graduate            No   \n",
       "\n",
       "   ApplicantIncome  CoapplicantIncome  LoanAmount  Loan_Amount_Term  \\\n",
       "0             5849                0.0         NaN             360.0   \n",
       "1             4583             1508.0       128.0             360.0   \n",
       "2             3000                0.0        66.0             360.0   \n",
       "3             2583             2358.0       120.0             360.0   \n",
       "4             6000                0.0       141.0             360.0   \n",
       "5             5417             4196.0       267.0             360.0   \n",
       "6             2333             1516.0        95.0             360.0   \n",
       "7             3036             2504.0       158.0             360.0   \n",
       "8             4006             1526.0       168.0             360.0   \n",
       "9            12841            10968.0       349.0             360.0   \n",
       "\n",
       "   Credit_History Property_Area Loan_Status  \n",
       "0             1.0         Urban           Y  \n",
       "1             1.0         Rural           N  \n",
       "2             1.0         Urban           Y  \n",
       "3             1.0         Urban           Y  \n",
       "4             1.0         Urban           Y  \n",
       "5             1.0         Urban           Y  \n",
       "6             1.0         Urban           Y  \n",
       "7             0.0     Semiurban           N  \n",
       "8             1.0         Urban           Y  \n",
       "9             1.0     Semiurban           N  "
      ]
     },
     "execution_count": 3,
     "metadata": {},
     "output_type": "execute_result"
    }
   ],
   "source": [
    "#Displaying the dataset\n",
    "\n",
    "data.head(10)"
   ]
  },
  {
   "cell_type": "code",
   "execution_count": 4,
   "id": "abf0b112",
   "metadata": {},
   "outputs": [
    {
     "data": {
      "text/plain": [
       "(614, 13)"
      ]
     },
     "execution_count": 4,
     "metadata": {},
     "output_type": "execute_result"
    }
   ],
   "source": [
    "#Checking our dataset total no.of rows and columns\n",
    "\n",
    "data.shape"
   ]
  },
  {
   "cell_type": "markdown",
   "id": "a83d8751",
   "metadata": {},
   "source": [
    "    Dataset contains 614 rows and 13 columns"
   ]
  },
  {
   "cell_type": "markdown",
   "id": "9ca59332",
   "metadata": {},
   "source": [
    "## Statistical Summary"
   ]
  },
  {
   "cell_type": "code",
   "execution_count": 8,
   "id": "0178510f",
   "metadata": {},
   "outputs": [
    {
     "data": {
      "text/plain": [
       "Loan_ID              0\n",
       "Gender               0\n",
       "Married              0\n",
       "Dependents           0\n",
       "Education            0\n",
       "Self_Employed        0\n",
       "ApplicantIncome      0\n",
       "CoapplicantIncome    0\n",
       "LoanAmount           0\n",
       "Loan_Amount_Term     0\n",
       "Credit_History       0\n",
       "Property_Area        0\n",
       "Loan_Status          0\n",
       "dtype: int64"
      ]
     },
     "execution_count": 8,
     "metadata": {},
     "output_type": "execute_result"
    }
   ],
   "source": [
    "#Check if any null values present\n",
    "\n",
    "data.isna().sum()"
   ]
  },
  {
   "cell_type": "code",
   "execution_count": 47,
   "id": "2bf6f6ff",
   "metadata": {},
   "outputs": [
    {
     "data": {
      "image/png": "[encoded data removed]",
      "text/plain": [
       "<Figure size 720x432 with 2 Axes>"
      ]
     },
     "metadata": {
      "needs_background": "light"
     },
     "output_type": "display_data"
    }
   ],
   "source": [
    "plt.figure(figsize=(10,6))\n",
    "sns.heatmap(data.isna(),cmap='mako')\n",
    "plt.show()"
   ]
  },
  {
   "cell_type": "code",
   "execution_count": 9,
   "id": "7be9f1c5",
   "metadata": {},
   "outputs": [],
   "source": [
    "#store the column names in a list that has null values\n",
    "\n",
    "columns_with_nan = [\"Gender\", \"Married\", \"Dependents\",\"Self_Employed\",\"LoanAmount\",\"Loan_Amount_Term\",\"Credit_History\"]"
   ]
  },
  {
   "cell_type": "code",
   "execution_count": 10,
   "id": "e9eee3a0",
   "metadata": {},
   "outputs": [],
   "source": [
    "#replace NaN values with modes independently\n",
    "\n",
    "for col in columns_with_nan:\n",
    "    data[col].fillna(data[col].mode()[0], inplace=True)"
   ]
  },
  {
   "cell_type": "code",
   "execution_count": 11,
   "id": "47edb262",
   "metadata": {},
   "outputs": [
    {
     "data": {
      "image/png": "[encoded data removed]",
      "text/plain": [
       "<Figure size 720x432 with 2 Axes>"
      ]
     },
     "metadata": {
      "needs_background": "light"
     },
     "output_type": "display_data"
    }
   ],
   "source": [
    "#Plot null values to check if any available\n",
    "\n",
    "plt.figure(figsize=(10,6))\n",
    "sns.heatmap(data.isna(),cmap='mako')\n",
    "plt.show()"
   ]
  },
  {
   "cell_type": "markdown",
   "id": "5ca7c85f",
   "metadata": {},
   "source": [
    "    We are left with no null values"
   ]
  },
  {
   "cell_type": "code",
   "execution_count": 13,
   "id": "4d26dbd9",
   "metadata": {},
   "outputs": [
    {
     "data": {
      "text/html": [
       "<div>\n",
       "<style scoped>\n",
       "    .dataframe tbody tr th:only-of-type {\n",
       "        vertical-align: middle;\n",
       "    }\n",
       "\n",
       "    .dataframe tbody tr th {\n",
       "        vertical-align: top;\n",
       "    }\n",
       "\n",
       "    .dataframe thead th {\n",
       "        text-align: right;\n",
       "    }\n",
       "</style>\n",
       "<table border=\"1\" class=\"dataframe\">\n",
       "  <thead>\n",
       "    <tr style=\"text-align: right;\">\n",
       "      <th></th>\n",
       "      <th>ApplicantIncome</th>\n",
       "      <th>CoapplicantIncome</th>\n",
       "      <th>LoanAmount</th>\n",
       "      <th>Loan_Amount_Term</th>\n",
       "      <th>Credit_History</th>\n",
       "    </tr>\n",
       "  </thead>\n",
       "  <tbody>\n",
       "    <tr>\n",
       "      <th>count</th>\n",
       "      <td>614.000000</td>\n",
       "      <td>614.000000</td>\n",
       "      <td>614.000000</td>\n",
       "      <td>614.000000</td>\n",
       "      <td>614.000000</td>\n",
       "    </tr>\n",
       "    <tr>\n",
       "      <th>mean</th>\n",
       "      <td>5403.459283</td>\n",
       "      <td>1621.245798</td>\n",
       "      <td>145.465798</td>\n",
       "      <td>342.410423</td>\n",
       "      <td>0.855049</td>\n",
       "    </tr>\n",
       "    <tr>\n",
       "      <th>std</th>\n",
       "      <td>6109.041673</td>\n",
       "      <td>2926.248369</td>\n",
       "      <td>84.180967</td>\n",
       "      <td>64.428629</td>\n",
       "      <td>0.352339</td>\n",
       "    </tr>\n",
       "    <tr>\n",
       "      <th>min</th>\n",
       "      <td>150.000000</td>\n",
       "      <td>0.000000</td>\n",
       "      <td>9.000000</td>\n",
       "      <td>12.000000</td>\n",
       "      <td>0.000000</td>\n",
       "    </tr>\n",
       "    <tr>\n",
       "      <th>25%</th>\n",
       "      <td>2877.500000</td>\n",
       "      <td>0.000000</td>\n",
       "      <td>100.250000</td>\n",
       "      <td>360.000000</td>\n",
       "      <td>1.000000</td>\n",
       "    </tr>\n",
       "    <tr>\n",
       "      <th>50%</th>\n",
       "      <td>3812.500000</td>\n",
       "      <td>1188.500000</td>\n",
       "      <td>125.000000</td>\n",
       "      <td>360.000000</td>\n",
       "      <td>1.000000</td>\n",
       "    </tr>\n",
       "    <tr>\n",
       "      <th>75%</th>\n",
       "      <td>5795.000000</td>\n",
       "      <td>2297.250000</td>\n",
       "      <td>164.750000</td>\n",
       "      <td>360.000000</td>\n",
       "      <td>1.000000</td>\n",
       "    </tr>\n",
       "    <tr>\n",
       "      <th>max</th>\n",
       "      <td>81000.000000</td>\n",
       "      <td>41667.000000</td>\n",
       "      <td>700.000000</td>\n",
       "      <td>480.000000</td>\n",
       "      <td>1.000000</td>\n",
       "    </tr>\n",
       "  </tbody>\n",
       "</table>\n",
       "</div>"
      ],
      "text/plain": [
       "       ApplicantIncome  CoapplicantIncome  LoanAmount  Loan_Amount_Term  \\\n",
       "count       614.000000         614.000000  614.000000        614.000000   \n",
       "mean       5403.459283        1621.245798  145.465798        342.410423   \n",
       "std        6109.041673        2926.248369   84.180967         64.428629   \n",
       "min         150.000000           0.000000    9.000000         12.000000   \n",
       "25%        2877.500000           0.000000  100.250000        360.000000   \n",
       "50%        3812.500000        1188.500000  125.000000        360.000000   \n",
       "75%        5795.000000        2297.250000  164.750000        360.000000   \n",
       "max       81000.000000       41667.000000  700.000000        480.000000   \n",
       "\n",
       "       Credit_History  \n",
       "count      614.000000  \n",
       "mean         0.855049  \n",
       "std          0.352339  \n",
       "min          0.000000  \n",
       "25%          1.000000  \n",
       "50%          1.000000  \n",
       "75%          1.000000  \n",
       "max          1.000000  "
      ]
     },
     "execution_count": 13,
     "metadata": {},
     "output_type": "execute_result"
    }
   ],
   "source": [
    "#To check the statistical value of each column\n",
    "\n",
    "data.describe()"
   ]
  },
  {
   "cell_type": "markdown",
   "id": "4f4e1fa2",
   "metadata": {},
   "source": [
    "Columns: \"ApplicantIncome\", \"CoapplicantIncome\" has more standard deviation than the mean and \"LoanAmount\" has also some outliers"
   ]
  },
  {
   "cell_type": "code",
   "execution_count": 12,
   "id": "9fb784d2",
   "metadata": {},
   "outputs": [
    {
     "name": "stdout",
     "output_type": "stream",
     "text": [
      "<class 'pandas.core.frame.DataFrame'>\n",
      "RangeIndex: 614 entries, 0 to 613\n",
      "Data columns (total 13 columns):\n",
      " #   Column             Non-Null Count  Dtype  \n",
      "---  ------             --------------  -----  \n",
      " 0   Loan_ID            614 non-null    object \n",
      " 1   Gender             614 non-null    object \n",
      " 2   Married            614 non-null    object \n",
      " 3   Dependents         614 non-null    object \n",
      " 4   Education          614 non-null    object \n",
      " 5   Self_Employed      614 non-null    object \n",
      " 6   ApplicantIncome    614 non-null    int64  \n",
      " 7   CoapplicantIncome  614 non-null    float64\n",
      " 8   LoanAmount         614 non-null    float64\n",
      " 9   Loan_Amount_Term   614 non-null    float64\n",
      " 10  Credit_History     614 non-null    float64\n",
      " 11  Property_Area      614 non-null    object \n",
      " 12  Loan_Status        614 non-null    object \n",
      "dtypes: float64(4), int64(1), object(8)\n",
      "memory usage: 62.5+ KB\n"
     ]
    }
   ],
   "source": [
    "data.info()"
   ]
  },
  {
   "cell_type": "markdown",
   "id": "8239b0e3",
   "metadata": {},
   "source": [
    "We have the following categorical data columns:\n",
    "- Loan_ID\n",
    "- Gender             \n",
    "- Married            \n",
    "- Dependents         \n",
    "- Education          \n",
    "- Self_Employed      \n",
    "- Property_Area      \n",
    "- Loan_Status        \n"
   ]
  },
  {
   "cell_type": "markdown",
   "id": "794fe7c6",
   "metadata": {},
   "source": [
    "## Explratory Data Analysis (EDA)\n"
   ]
  },
  {
   "cell_type": "markdown",
   "id": "329fe7a6",
   "metadata": {},
   "source": [
    "    Let's explore our dataset columns"
   ]
  },
  {
   "cell_type": "markdown",
   "id": "07f27edf",
   "metadata": {},
   "source": [
    "### Univariate Analysis"
   ]
  },
  {
   "cell_type": "code",
   "execution_count": 31,
   "id": "9488f3ff",
   "metadata": {
    "scrolled": false
   },
   "outputs": [
    {
     "data": {
      "image/png": "[encoded data removed]",
      "text/plain": [
       "<Figure size 576x432 with 1 Axes>"
      ]
     },
     "metadata": {},
     "output_type": "display_data"
    },
    {
     "data": {
      "text/plain": [
       "Y    422\n",
       "N    192\n",
       "Name: Loan_Status, dtype: int64"
      ]
     },
     "execution_count": 31,
     "metadata": {},
     "output_type": "execute_result"
    }
   ],
   "source": [
    "#Target Column \"Loan_Status\"\n",
    "\n",
    "plt.figure(figsize = (8,6),facecolor='White')\n",
    "sns.countplot(x='Loan_Status', data = data)\n",
    "plt.tick_params(labelsize=15)\n",
    "plt.show()\n",
    "\n",
    "\n",
    "data['Loan_Status'].value_counts()"
   ]
  },
  {
   "cell_type": "markdown",
   "id": "28538e17",
   "metadata": {},
   "source": [
    "#### Observation:\n",
    "\n",
    "    - In our Dataset more than half of the loan applications are approved \n",
    "    - There 2:1 chance of the loans getting approved and rejected\n",
    "\n",
    "    Our label column is Imbanced and we would need to balance it by using \"Under sampling/Over Sampling method\""
   ]
  },
  {
   "cell_type": "code",
   "execution_count": 73,
   "id": "270752c7",
   "metadata": {},
   "outputs": [
    {
     "data": {
      "image/png": "[encoded data removed]",
      "text/plain": [
       "<Figure size 576x432 with 1 Axes>"
      ]
     },
     "metadata": {},
     "output_type": "display_data"
    }
   ],
   "source": [
    "plt.figure(figsize = (8,6),facecolor='White')\n",
    "sns.countplot(x='Loan_Amount_Term', data = data)\n",
    "plt.tick_params(labelsize=12)\n",
    "plt.show()"
   ]
  },
  {
   "cell_type": "markdown",
   "id": "89c479b7",
   "metadata": {},
   "source": [
    "#### Observation:\n",
    "    - \"Loan_Amount_Term : 360.0\" has the highest loans approved\n"
   ]
  },
  {
   "cell_type": "markdown",
   "id": "9935312b",
   "metadata": {},
   "source": [
    "### Bivariate Analysis"
   ]
  },
  {
   "cell_type": "code",
   "execution_count": 64,
   "id": "dc61c93c",
   "metadata": {
    "scrolled": false
   },
   "outputs": [
    {
     "data": {
      "image/png": "[encoded data removed]",
      "text/plain": [
       "<Figure size 864x432 with 1 Axes>"
      ]
     },
     "metadata": {},
     "output_type": "display_data"
    }
   ],
   "source": [
    "#Check Relation b/w Gender and Loan Status\n",
    "\n",
    "plt.figure(figsize = (12,6),facecolor='White')\n",
    "sns.countplot(data['Loan_Status'],hue = data['Gender'])\n",
    "plt.title('Relation b/w Gender and Loan Status',fontsize=15)\n",
    "plt.tick_params(labelsize=13)\n",
    "plt.show()"
   ]
  },
  {
   "cell_type": "markdown",
   "id": "708798a6",
   "metadata": {},
   "source": [
    "#### Observation:\n",
    "\n",
    "    - Male Candidates have higher chance of getting the loan approval and rejection when compared to female candidates"
   ]
  },
  {
   "cell_type": "code",
   "execution_count": 63,
   "id": "85801cf2",
   "metadata": {},
   "outputs": [
    {
     "data": {
      "image/png": "[encoded data removed]",
      "text/plain": [
       "<Figure size 864x432 with 1 Axes>"
      ]
     },
     "metadata": {},
     "output_type": "display_data"
    }
   ],
   "source": [
    "#Check Relation b/w Self_Employed and Loan Status\n",
    "\n",
    "plt.figure(figsize = (12,6),facecolor='White')\n",
    "sns.countplot(data['Loan_Status'],hue = data['Self_Employed'])\n",
    "plt.title('Relation b/w Self_Employed and Loan Status',fontsize=15)\n",
    "plt.tick_params(labelsize=13)\n",
    "plt.show()\n"
   ]
  },
  {
   "cell_type": "markdown",
   "id": "f7aaf455",
   "metadata": {},
   "source": [
    "#### Observation:\n",
    "\n",
    "    - We see that there are still high chances that a non self employed candidate also gets their loan applications approved"
   ]
  },
  {
   "cell_type": "code",
   "execution_count": 42,
   "id": "a1279ec6",
   "metadata": {},
   "outputs": [
    {
     "data": {
      "image/png": "[encoded data removed]",
      "text/plain": [
       "<Figure size 864x432 with 1 Axes>"
      ]
     },
     "metadata": {},
     "output_type": "display_data"
    }
   ],
   "source": [
    "#Check Relation b/w Credit_History and Loan Status\n",
    "\n",
    "plt.figure(figsize = (12,6),facecolor='White')\n",
    "sns.countplot(data['Credit_History'],hue=data['Loan_Status'],palette=\"mako\")\n",
    "plt.title('Relation b/w Credit_History and Loan Status',fontsize=15)\n",
    "plt.tick_params(labelsize=13)\n",
    "plt.show()\n"
   ]
  },
  {
   "cell_type": "markdown",
   "id": "7b25d046",
   "metadata": {},
   "source": [
    "#### Observation:\n",
    "\n",
    "    - Loan Applications are still approved for the candidates who have previous Credit History"
   ]
  },
  {
   "cell_type": "code",
   "execution_count": 39,
   "id": "e65b0779",
   "metadata": {},
   "outputs": [
    {
     "data": {
      "image/png": "[encoded data removed]",
      "text/plain": [
       "<Figure size 864x432 with 1 Axes>"
      ]
     },
     "metadata": {},
     "output_type": "display_data"
    }
   ],
   "source": [
    "\n",
    "#Checking the relation b/w Education and Loan Status\n",
    "\n",
    "plt.figure(figsize = (12,6),facecolor='White')\n",
    "sns.countplot(x='Education',data = data,hue=\"Loan_Status\",palette=\"viridis\")\n",
    "plt.title('Relation b/w Education and Loan Status',fontsize=15)\n",
    "plt.tick_params(labelsize=13)\n",
    "plt.show()\n"
   ]
  },
  {
   "cell_type": "markdown",
   "id": "50349dfc",
   "metadata": {},
   "source": [
    "#### Observation:\n",
    "\n",
    "    - High Chances of Loan Applications approval of the Graduated candidates when compared to Not Graduated candidates\n",
    "    \n",
    "    Hence, the Graduated populates gets the more loans facility"
   ]
  },
  {
   "cell_type": "code",
   "execution_count": 49,
   "id": "9982e6f7",
   "metadata": {},
   "outputs": [
    {
     "data": {
      "image/png": "[encoded data removed]",
      "text/plain": [
       "<Figure size 864x432 with 1 Axes>"
      ]
     },
     "metadata": {},
     "output_type": "display_data"
    }
   ],
   "source": [
    "#Checking the relation b/w Property_Area and Loan Status\n",
    "\n",
    "plt.figure(figsize = (12,6),facecolor='White')\n",
    "sns.countplot(x='Property_Area',data = data,hue=\"Loan_Status\",palette=\"rocket\")\n",
    "plt.title('Relation b/w Property_Area and Loan Status',fontsize=15)\n",
    "plt.tick_params(labelsize=13)\n",
    "plt.show()\n"
   ]
  },
  {
   "cell_type": "markdown",
   "id": "58420885",
   "metadata": {},
   "source": [
    "#### Observation:\n",
    "\n",
    "        - Semiurban area property candidates have high chances of loan approval and Urban property candidates also gets more number of loans approved\n",
    "        - Rural Area candidates have high chances of Loans rejected and less chances of loans approvals when compared to the Semiurban and Urban area property candidates"
   ]
  },
  {
   "cell_type": "code",
   "execution_count": 50,
   "id": "405c0ca1",
   "metadata": {},
   "outputs": [
    {
     "data": {
      "image/png": "[encoded data removed]",
      "text/plain": [
       "<Figure size 864x432 with 1 Axes>"
      ]
     },
     "metadata": {},
     "output_type": "display_data"
    }
   ],
   "source": [
    "#Checking the relation b/w Married and Loan Status\n",
    "\n",
    "plt.figure(figsize = (12,6),facecolor='White')\n",
    "sns.countplot(x='Married',data = data,hue=\"Loan_Status\",palette=\"cubehelix\")\n",
    "plt.title('Relation b/w Married and Loan Status',fontsize=15)\n",
    "plt.tick_params(labelsize=13)\n",
    "plt.show()\n"
   ]
  },
  {
   "cell_type": "markdown",
   "id": "ce33645b",
   "metadata": {},
   "source": [
    "#### Observation:\n",
    "\n",
    "    - Married Candidate's Loan Applications are largely approved when compared to unmarried candidates"
   ]
  },
  {
   "cell_type": "code",
   "execution_count": 51,
   "id": "be92cd01",
   "metadata": {},
   "outputs": [
    {
     "data": {
      "image/png": "[encoded data removed]",
      "text/plain": [
       "<Figure size 864x432 with 1 Axes>"
      ]
     },
     "metadata": {},
     "output_type": "display_data"
    }
   ],
   "source": [
    "#Checking the relation b/w Dependents and Loan Status\n",
    "\n",
    "plt.figure(figsize = (12,6),facecolor='White')\n",
    "sns.countplot(x='Dependents',data = data,hue=\"Loan_Status\",palette=\"mako\")\n",
    "plt.title('Relation b/w Dependents and Loan Status',fontsize=15)\n",
    "plt.tick_params(labelsize=13)\n",
    "plt.show()"
   ]
  },
  {
   "cell_type": "markdown",
   "id": "070b0971",
   "metadata": {},
   "source": [
    "#### Observation:\n",
    "\n",
    "    - Candidates with no dependents, high chances of loan approvals\n",
    "    - Candidates with more than 3 dependents, least chances of loan approvals"
   ]
  },
  {
   "cell_type": "code",
   "execution_count": 55,
   "id": "0b30529b",
   "metadata": {},
   "outputs": [
    {
     "data": {
      "image/png": "[encoded data removed]",
      "text/plain": [
       "<Figure size 864x432 with 1 Axes>"
      ]
     },
     "metadata": {},
     "output_type": "display_data"
    }
   ],
   "source": [
    "plt.figure(figsize = (12,6),facecolor='White')\n",
    "sns.countplot(x='Loan_Amount_Term',data = data,hue=\"Loan_Status\",palette=\"magma\")\n",
    "plt.title('Relation b/w Loan_Amount_Term and Loan Status',fontsize=15)\n",
    "plt.tick_params(labelsize=13)\n",
    "plt.show()"
   ]
  },
  {
   "cell_type": "markdown",
   "id": "408f7533",
   "metadata": {},
   "source": [
    "#### Observation:\n",
    "\n",
    "    - Loan_Amount_Term \"360.0\" has the highest rate of loan approvals and rejections,  when compared to \n",
    "    other Loan_Amount_Terms\n",
    "    \n",
    "    It means the \"Loan_Amount_Term\" of \"360.0\" is issued and approved the most"
   ]
  },
  {
   "cell_type": "code",
   "execution_count": 58,
   "id": "d2272862",
   "metadata": {},
   "outputs": [
    {
     "data": {
      "image/png": "[encoded data removed]",
      "text/plain": [
       "<Figure size 864x432 with 1 Axes>"
      ]
     },
     "metadata": {},
     "output_type": "display_data"
    }
   ],
   "source": [
    "plt.figure(figsize = (12,6),facecolor='White')\n",
    "sns.distplot(data['CoapplicantIncome'])\n",
    "plt.title('Relation b/w Loan_Amount_Term and Loan Status',fontsize=15)\n",
    "plt.tick_params(labelsize=13)\n",
    "plt.show()"
   ]
  },
  {
   "cell_type": "markdown",
   "id": "17555b70",
   "metadata": {},
   "source": [
    "#### Observation:\n",
    "\n",
    "    - Most of the CoapplicantIncome has '0', this should not replaced by mean/median/mode as these complete data can't be completely missing data"
   ]
  },
  {
   "cell_type": "markdown",
   "id": "0d6cdd80",
   "metadata": {},
   "source": [
    "### Multivariate Analysis"
   ]
  },
  {
   "cell_type": "code",
   "execution_count": 88,
   "id": "795107be",
   "metadata": {},
   "outputs": [
    {
     "data": {
      "image/png": "[encoded data removed]",
      "text/plain": [
       "<Figure size 720x432 with 1 Axes>"
      ]
     },
     "metadata": {},
     "output_type": "display_data"
    }
   ],
   "source": [
    "plt.figure(figsize = (10,6))\n",
    "sns.barplot(x=data['Property_Area'],y=data['LoanAmount'],hue=data['Loan_Status'])\n",
    "plt.show()"
   ]
  },
  {
   "cell_type": "markdown",
   "id": "47cd7525",
   "metadata": {},
   "source": [
    "#### Observation:\n",
    "    - Rural Property Area gets the highest loan amount approved"
   ]
  },
  {
   "cell_type": "code",
   "execution_count": 80,
   "id": "44e7733f",
   "metadata": {},
   "outputs": [
    {
     "data": {
      "image/png": "[encoded data removed]",
      "text/plain": [
       "<Figure size 864x432 with 2 Axes>"
      ]
     },
     "metadata": {},
     "output_type": "display_data"
    }
   ],
   "source": [
    "#Let's plot heatmap\n",
    "\n",
    "plt.figure(figsize=(12,6))\n",
    "sns.heatmap(data.corr(),annot=False,cmap='mako')\n",
    "plt.tick_params(labelsize=12)\n",
    "\n",
    "plt.show()"
   ]
  },
  {
   "cell_type": "code",
   "execution_count": 81,
   "id": "f4b0afb2",
   "metadata": {},
   "outputs": [
    {
     "data": {
      "text/html": [
       "<div>\n",
       "<style scoped>\n",
       "    .dataframe tbody tr th:only-of-type {\n",
       "        vertical-align: middle;\n",
       "    }\n",
       "\n",
       "    .dataframe tbody tr th {\n",
       "        vertical-align: top;\n",
       "    }\n",
       "\n",
       "    .dataframe thead th {\n",
       "        text-align: right;\n",
       "    }\n",
       "</style>\n",
       "<table border=\"1\" class=\"dataframe\">\n",
       "  <thead>\n",
       "    <tr style=\"text-align: right;\">\n",
       "      <th></th>\n",
       "      <th>ApplicantIncome</th>\n",
       "      <th>CoapplicantIncome</th>\n",
       "      <th>LoanAmount</th>\n",
       "      <th>Loan_Amount_Term</th>\n",
       "      <th>Credit_History</th>\n",
       "    </tr>\n",
       "  </thead>\n",
       "  <tbody>\n",
       "    <tr>\n",
       "      <th>ApplicantIncome</th>\n",
       "      <td>1.000000</td>\n",
       "      <td>-0.116605</td>\n",
       "      <td>0.564698</td>\n",
       "      <td>-0.046531</td>\n",
       "      <td>-0.018615</td>\n",
       "    </tr>\n",
       "    <tr>\n",
       "      <th>CoapplicantIncome</th>\n",
       "      <td>-0.116605</td>\n",
       "      <td>1.000000</td>\n",
       "      <td>0.189723</td>\n",
       "      <td>-0.059383</td>\n",
       "      <td>0.011134</td>\n",
       "    </tr>\n",
       "    <tr>\n",
       "      <th>LoanAmount</th>\n",
       "      <td>0.564698</td>\n",
       "      <td>0.189723</td>\n",
       "      <td>1.000000</td>\n",
       "      <td>0.037152</td>\n",
       "      <td>-0.000250</td>\n",
       "    </tr>\n",
       "    <tr>\n",
       "      <th>Loan_Amount_Term</th>\n",
       "      <td>-0.046531</td>\n",
       "      <td>-0.059383</td>\n",
       "      <td>0.037152</td>\n",
       "      <td>1.000000</td>\n",
       "      <td>-0.004705</td>\n",
       "    </tr>\n",
       "    <tr>\n",
       "      <th>Credit_History</th>\n",
       "      <td>-0.018615</td>\n",
       "      <td>0.011134</td>\n",
       "      <td>-0.000250</td>\n",
       "      <td>-0.004705</td>\n",
       "      <td>1.000000</td>\n",
       "    </tr>\n",
       "  </tbody>\n",
       "</table>\n",
       "</div>"
      ],
      "text/plain": [
       "                   ApplicantIncome  CoapplicantIncome  LoanAmount  \\\n",
       "ApplicantIncome           1.000000          -0.116605    0.564698   \n",
       "CoapplicantIncome        -0.116605           1.000000    0.189723   \n",
       "LoanAmount                0.564698           0.189723    1.000000   \n",
       "Loan_Amount_Term         -0.046531          -0.059383    0.037152   \n",
       "Credit_History           -0.018615           0.011134   -0.000250   \n",
       "\n",
       "                   Loan_Amount_Term  Credit_History  \n",
       "ApplicantIncome           -0.046531       -0.018615  \n",
       "CoapplicantIncome         -0.059383        0.011134  \n",
       "LoanAmount                 0.037152       -0.000250  \n",
       "Loan_Amount_Term           1.000000       -0.004705  \n",
       "Credit_History            -0.004705        1.000000  "
      ]
     },
     "execution_count": 81,
     "metadata": {},
     "output_type": "execute_result"
    }
   ],
   "source": [
    "data.corr()  #correlation data"
   ]
  },
  {
   "cell_type": "markdown",
   "id": "d8b1b4f1",
   "metadata": {},
   "source": [
    "#### Observation:\n",
    "    - CoapplicantIncome has the least correlation with Loan_Amount_Term value: \"-0.059383\"\n",
    "    - LoanAmount and ApplicantIncome have large correlation of value: \"0.564698\""
   ]
  },
  {
   "cell_type": "markdown",
   "id": "2db29c7e",
   "metadata": {},
   "source": [
    "## Data Preprocessing"
   ]
  },
  {
   "cell_type": "code",
   "execution_count": 16,
   "id": "31ea830c",
   "metadata": {},
   "outputs": [],
   "source": [
    "#Let's drop this column: \"Loan_ID\" as it contains the loan id's which doesn't affect the loan approval\n",
    "\n",
    "data = data.drop(columns='Loan_ID')"
   ]
  },
  {
   "cell_type": "code",
   "execution_count": 59,
   "id": "dfdae97e",
   "metadata": {},
   "outputs": [],
   "source": [
    "#Column with Outliers\n",
    "\n",
    "features = ['ApplicantIncome', 'CoapplicantIncome', 'LoanAmount']"
   ]
  },
  {
   "cell_type": "code",
   "execution_count": 60,
   "id": "237d62bc",
   "metadata": {
    "scrolled": false
   },
   "outputs": [
    {
     "data": {
      "image/png": "[encoded data removed]",
      "text/plain": [
       "<Figure size 1080x432 with 1 Axes>"
      ]
     },
     "metadata": {
      "needs_background": "light"
     },
     "output_type": "display_data"
    },
    {
     "data": {
      "image/png": "[encoded data removed]",
      "text/plain": [
       "<Figure size 1080x432 with 1 Axes>"
      ]
     },
     "metadata": {
      "needs_background": "light"
     },
     "output_type": "display_data"
    },
    {
     "data": {
      "image/png": "[encoded data removed]",
      "text/plain": [
       "<Figure size 1080x432 with 1 Axes>"
      ]
     },
     "metadata": {
      "needs_background": "light"
     },
     "output_type": "display_data"
    }
   ],
   "source": [
    "#To check the distribution of the outliers\n",
    "for i in features:\n",
    "    plt.figure(figsize=[15,6])\n",
    "    sns.distplot(data[i])\n",
    "    plt.xlabel(i,fontsize=20)\n",
    "plt.show()"
   ]
  },
  {
   "cell_type": "markdown",
   "id": "fe9459f6",
   "metadata": {},
   "source": [
    "- We see that our data set are mostly skewed towards right"
   ]
  },
  {
   "cell_type": "markdown",
   "id": "6aa920bf",
   "metadata": {},
   "source": [
    "### Removing the outliers"
   ]
  },
  {
   "cell_type": "markdown",
   "id": "183a930a",
   "metadata": {},
   "source": [
    "- Let's apply some techniques to remove the outliers"
   ]
  },
  {
   "cell_type": "markdown",
   "id": "d79a7558",
   "metadata": {},
   "source": [
    "##### Applying the IQR Method"
   ]
  },
  {
   "cell_type": "code",
   "execution_count": 90,
   "id": "1072a2b2",
   "metadata": {},
   "outputs": [],
   "source": [
    "Q1 = data[features].quantile(0.25)\n",
    "Q3 = data[features].quantile(0.75)\n",
    "IQR = Q3-Q1\n",
    "\n",
    "data_new1 = data[~((data[features] < (Q1-1.5*IQR)) | (data[features]> (Q3 + 1.5*Q3))).any(axis = 1)]"
   ]
  },
  {
   "cell_type": "code",
   "execution_count": 91,
   "id": "4dc20522",
   "metadata": {},
   "outputs": [
    {
     "name": "stdout",
     "output_type": "stream",
     "text": [
      "Shape - Before and After:\n",
      "\n",
      "Shape Before         : (614, 13)\n",
      "Shape After          : (564, 13)\n",
      "Percentage Loss      : 8.143322475570033\n"
     ]
    }
   ],
   "source": [
    "print('Shape - Before and After:\\n')\n",
    "print('Shape Before'.ljust(20),\":\",data.shape)\n",
    "print('Shape After'.ljust(20),\":\",data_new1.shape)\n",
    "print('Percentage Loss'.ljust(20),\":\",((data.shape[0]-data_new1.shape[0])/data.shape[0])*100)"
   ]
  },
  {
   "cell_type": "markdown",
   "id": "0f5fba44",
   "metadata": {},
   "source": [
    "##### Applying the zscore Method"
   ]
  },
  {
   "cell_type": "code",
   "execution_count": 92,
   "id": "63bcdf50",
   "metadata": {},
   "outputs": [],
   "source": [
    "from scipy.stats import zscore  #importing zscore from library\n",
    "features = ['ApplicantIncome', 'CoapplicantIncome', 'LoanAmount']  #columns with outliers\n",
    "\n",
    "\n",
    "z=np.abs(zscore(data[features]))\n",
    "threshold = 3\n",
    "data_new2 = data[(z<3).all(axis=1)]"
   ]
  },
  {
   "cell_type": "code",
   "execution_count": 93,
   "id": "e0fbdae8",
   "metadata": {},
   "outputs": [
    {
     "name": "stdout",
     "output_type": "stream",
     "text": [
      "Shape - Before and After:\n",
      "\n",
      "Shape Before         : (614, 13)\n",
      "Shape After          : (589, 13)\n",
      "Percentage Loss      : 4.071661237785016\n"
     ]
    }
   ],
   "source": [
    "print('Shape - Before and After:\\n')\n",
    "print('Shape Before'.ljust(20),\":\",data.shape)\n",
    "print('Shape After'.ljust(20),\":\",data_new2.shape)\n",
    "print('Percentage Loss'.ljust(20),\":\",((data.shape[0]-data_new2.shape[0])/data.shape[0])*100)"
   ]
  },
  {
   "cell_type": "markdown",
   "id": "e966be9d",
   "metadata": {},
   "source": [
    "    Percentage Loss is very less by applying zscore method. let's proceed with this"
   ]
  },
  {
   "cell_type": "code",
   "execution_count": 94,
   "id": "db62c08d",
   "metadata": {},
   "outputs": [],
   "source": [
    "data_new = data_new2.copy()  #Copy the data"
   ]
  },
  {
   "cell_type": "markdown",
   "id": "ab94e1fa",
   "metadata": {},
   "source": [
    "### Skewness"
   ]
  },
  {
   "cell_type": "code",
   "execution_count": 95,
   "id": "af0b3832",
   "metadata": {},
   "outputs": [
    {
     "data": {
      "text/plain": [
       "ApplicantIncome      6.539513\n",
       "CoapplicantIncome    7.491531\n",
       "LoanAmount           2.745407\n",
       "Loan_Amount_Term    -2.402112\n",
       "Credit_History      -2.021971\n",
       "dtype: float64"
      ]
     },
     "execution_count": 95,
     "metadata": {},
     "output_type": "execute_result"
    }
   ],
   "source": [
    "#Skewness Before applying the outlier method\n",
    "\n",
    "data.skew()"
   ]
  },
  {
   "cell_type": "code",
   "execution_count": 96,
   "id": "d9214f76",
   "metadata": {},
   "outputs": [
    {
     "data": {
      "text/plain": [
       "ApplicantIncome      2.164762\n",
       "CoapplicantIncome    1.353191\n",
       "LoanAmount           1.126225\n",
       "Loan_Amount_Term    -2.446026\n",
       "Credit_History      -2.010069\n",
       "dtype: float64"
      ]
     },
     "execution_count": 96,
     "metadata": {},
     "output_type": "execute_result"
    }
   ],
   "source": [
    "#Skewness After applying the outlier method\n",
    "\n",
    "\n",
    "data_new.skew()"
   ]
  },
  {
   "cell_type": "markdown",
   "id": "914fb933",
   "metadata": {},
   "source": [
    "    \"Loan_Amount_Term\" looks like a descrete data so we will ignore the skewness in it\n",
    "    \"Credit_History\" looks nominal data with value 0 or 1 so we will ignore the skewness in it"
   ]
  },
  {
   "cell_type": "code",
   "execution_count": 97,
   "id": "f34ad75d",
   "metadata": {},
   "outputs": [],
   "source": [
    "#Let's reduce the skewness by using the Powertransformation method\n",
    "\n",
    "from sklearn.preprocessing import PowerTransformer #importing the library\n",
    "\n",
    "scaler = PowerTransformer(method='yeo-johnson')\n",
    "    \n",
    "data_new['ApplicantIncome'] = scaler.fit_transform(data_new['ApplicantIncome'].values.reshape(-1,1))\n",
    "data_new['CoapplicantIncome'] = scaler.fit_transform(data_new['CoapplicantIncome'].values.reshape(-1,1))\n",
    "data_new['LoanAmount'] = scaler.fit_transform(data_new['LoanAmount'].values.reshape(-1,1))"
   ]
  },
  {
   "cell_type": "code",
   "execution_count": 98,
   "id": "b05f626b",
   "metadata": {},
   "outputs": [
    {
     "data": {
      "text/plain": [
       "ApplicantIncome      0.028063\n",
       "CoapplicantIncome   -0.186195\n",
       "LoanAmount           0.060859\n",
       "Loan_Amount_Term    -2.446026\n",
       "Credit_History      -2.010069\n",
       "dtype: float64"
      ]
     },
     "execution_count": 98,
     "metadata": {},
     "output_type": "execute_result"
    }
   ],
   "source": [
    "#Skewness After applying the Powertransformation method\n",
    "\n",
    "data_new.skew()"
   ]
  },
  {
   "cell_type": "markdown",
   "id": "34704094",
   "metadata": {},
   "source": [
    "- We could see that the skewness are removed"
   ]
  },
  {
   "cell_type": "code",
   "execution_count": 28,
   "id": "099ba74a",
   "metadata": {},
   "outputs": [
    {
     "data": {
      "image/png": "[encoded data removed]",
      "text/plain": [
       "<Figure size 864x576 with 2 Axes>"
      ]
     },
     "metadata": {
      "needs_background": "light"
     },
     "output_type": "display_data"
    }
   ],
   "source": [
    "#Let's plot heatmap\n",
    "\n",
    "plt.figure(figsize=(12,8))\n",
    "sns.heatmap(data_new.corr(),annot=True,cmap='mako')\n",
    "plt.tick_params(labelsize=8)\n",
    "\n",
    "plt.show()"
   ]
  },
  {
   "cell_type": "markdown",
   "id": "e014d5d1",
   "metadata": {},
   "source": [
    "## Encoding Data"
   ]
  },
  {
   "cell_type": "code",
   "execution_count": 30,
   "id": "19a6f768",
   "metadata": {},
   "outputs": [],
   "source": [
    "l1 = ['Gender', 'Married','Education','Loan_Status','Self_Employed']"
   ]
  },
  {
   "cell_type": "code",
   "execution_count": 31,
   "id": "6e62262d",
   "metadata": {},
   "outputs": [
    {
     "data": {
      "text/html": [
       "<div>\n",
       "<style scoped>\n",
       "    .dataframe tbody tr th:only-of-type {\n",
       "        vertical-align: middle;\n",
       "    }\n",
       "\n",
       "    .dataframe tbody tr th {\n",
       "        vertical-align: top;\n",
       "    }\n",
       "\n",
       "    .dataframe thead th {\n",
       "        text-align: right;\n",
       "    }\n",
       "</style>\n",
       "<table border=\"1\" class=\"dataframe\">\n",
       "  <thead>\n",
       "    <tr style=\"text-align: right;\">\n",
       "      <th></th>\n",
       "      <th>Gender</th>\n",
       "      <th>Married</th>\n",
       "      <th>Dependents</th>\n",
       "      <th>Education</th>\n",
       "      <th>Self_Employed</th>\n",
       "      <th>ApplicantIncome</th>\n",
       "      <th>CoapplicantIncome</th>\n",
       "      <th>LoanAmount</th>\n",
       "      <th>Loan_Amount_Term</th>\n",
       "      <th>Credit_History</th>\n",
       "      <th>Property_Area</th>\n",
       "      <th>Loan_Status</th>\n",
       "    </tr>\n",
       "  </thead>\n",
       "  <tbody>\n",
       "    <tr>\n",
       "      <th>0</th>\n",
       "      <td>1</td>\n",
       "      <td>0</td>\n",
       "      <td>0</td>\n",
       "      <td>0</td>\n",
       "      <td>0</td>\n",
       "      <td>0.688986</td>\n",
       "      <td>-1.119438</td>\n",
       "      <td>-0.140470</td>\n",
       "      <td>360.0</td>\n",
       "      <td>1.0</td>\n",
       "      <td>Urban</td>\n",
       "      <td>1</td>\n",
       "    </tr>\n",
       "    <tr>\n",
       "      <th>1</th>\n",
       "      <td>1</td>\n",
       "      <td>1</td>\n",
       "      <td>1</td>\n",
       "      <td>0</td>\n",
       "      <td>0</td>\n",
       "      <td>0.239843</td>\n",
       "      <td>0.748807</td>\n",
       "      <td>0.011197</td>\n",
       "      <td>360.0</td>\n",
       "      <td>1.0</td>\n",
       "      <td>Rural</td>\n",
       "      <td>0</td>\n",
       "    </tr>\n",
       "    <tr>\n",
       "      <th>2</th>\n",
       "      <td>1</td>\n",
       "      <td>1</td>\n",
       "      <td>0</td>\n",
       "      <td>0</td>\n",
       "      <td>1</td>\n",
       "      <td>-0.525799</td>\n",
       "      <td>-1.119438</td>\n",
       "      <td>-1.380101</td>\n",
       "      <td>360.0</td>\n",
       "      <td>1.0</td>\n",
       "      <td>Urban</td>\n",
       "      <td>1</td>\n",
       "    </tr>\n",
       "    <tr>\n",
       "      <th>3</th>\n",
       "      <td>1</td>\n",
       "      <td>1</td>\n",
       "      <td>0</td>\n",
       "      <td>1</td>\n",
       "      <td>0</td>\n",
       "      <td>-0.791841</td>\n",
       "      <td>0.899419</td>\n",
       "      <td>-0.140470</td>\n",
       "      <td>360.0</td>\n",
       "      <td>1.0</td>\n",
       "      <td>Urban</td>\n",
       "      <td>1</td>\n",
       "    </tr>\n",
       "    <tr>\n",
       "      <th>4</th>\n",
       "      <td>1</td>\n",
       "      <td>0</td>\n",
       "      <td>0</td>\n",
       "      <td>0</td>\n",
       "      <td>0</td>\n",
       "      <td>0.736280</td>\n",
       "      <td>-1.119438</td>\n",
       "      <td>0.245654</td>\n",
       "      <td>360.0</td>\n",
       "      <td>1.0</td>\n",
       "      <td>Urban</td>\n",
       "      <td>1</td>\n",
       "    </tr>\n",
       "  </tbody>\n",
       "</table>\n",
       "</div>"
      ],
      "text/plain": [
       "   Gender  Married Dependents  Education  Self_Employed  ApplicantIncome  \\\n",
       "0       1        0          0          0              0         0.688986   \n",
       "1       1        1          1          0              0         0.239843   \n",
       "2       1        1          0          0              1        -0.525799   \n",
       "3       1        1          0          1              0        -0.791841   \n",
       "4       1        0          0          0              0         0.736280   \n",
       "\n",
       "   CoapplicantIncome  LoanAmount  Loan_Amount_Term  Credit_History  \\\n",
       "0          -1.119438   -0.140470             360.0             1.0   \n",
       "1           0.748807    0.011197             360.0             1.0   \n",
       "2          -1.119438   -1.380101             360.0             1.0   \n",
       "3           0.899419   -0.140470             360.0             1.0   \n",
       "4          -1.119438    0.245654             360.0             1.0   \n",
       "\n",
       "  Property_Area  Loan_Status  \n",
       "0         Urban            1  \n",
       "1         Rural            0  \n",
       "2         Urban            1  \n",
       "3         Urban            1  \n",
       "4         Urban            1  "
      ]
     },
     "execution_count": 31,
     "metadata": {},
     "output_type": "execute_result"
    }
   ],
   "source": [
    "#Let's use Label Encoder method\n",
    "\n",
    "from sklearn.preprocessing import LabelEncoder  #importing library\n",
    "\n",
    "le = LabelEncoder()  #calling function\n",
    "\n",
    "for i in l1:\n",
    "     if data_new[i].dtypes=='object':\n",
    "            data_new[i]= le.fit_transform(data_new[i].values.reshape(-1,1))\n",
    "data_new.head()"
   ]
  },
  {
   "cell_type": "code",
   "execution_count": 61,
   "id": "623563ea",
   "metadata": {},
   "outputs": [
    {
     "data": {
      "text/plain": [
       "Semiurban    233\n",
       "Urban        202\n",
       "Rural        179\n",
       "Name: Property_Area, dtype: int64"
      ]
     },
     "execution_count": 61,
     "metadata": {},
     "output_type": "execute_result"
    }
   ],
   "source": [
    "data['Property_Area'].value_counts()"
   ]
  },
  {
   "cell_type": "code",
   "execution_count": 35,
   "id": "7f5f27c0",
   "metadata": {},
   "outputs": [
    {
     "data": {
      "text/plain": [
       "0     360\n",
       "1     102\n",
       "2     101\n",
       "3+     51\n",
       "Name: Dependents, dtype: int64"
      ]
     },
     "execution_count": 35,
     "metadata": {},
     "output_type": "execute_result"
    }
   ],
   "source": [
    "data['Dependents'].value_counts()  \n",
    "\n",
    "#Let's comsider this data as string instead of just label encoding and getting incorrect understanding, let's apply dummies"
   ]
  },
  {
   "cell_type": "code",
   "execution_count": 33,
   "id": "7642c09d",
   "metadata": {},
   "outputs": [],
   "source": [
    "#Get dummies\n",
    "l2 = pd.get_dummies(data_new['Property_Area'])\n",
    "l3 = pd.get_dummies(data_new['Dependents'])\n",
    "\n",
    "#Concat with main dataframe by dropping workclass dataframe\n",
    "data_new=pd.concat([data_new.drop('Property_Area',axis=1),l2],axis=1)\n",
    "data_new=pd.concat([data_new.drop('Dependents',axis=1),l3],axis=1)"
   ]
  },
  {
   "cell_type": "code",
   "execution_count": 34,
   "id": "02864380",
   "metadata": {},
   "outputs": [
    {
     "data": {
      "text/html": [
       "<div>\n",
       "<style scoped>\n",
       "    .dataframe tbody tr th:only-of-type {\n",
       "        vertical-align: middle;\n",
       "    }\n",
       "\n",
       "    .dataframe tbody tr th {\n",
       "        vertical-align: top;\n",
       "    }\n",
       "\n",
       "    .dataframe thead th {\n",
       "        text-align: right;\n",
       "    }\n",
       "</style>\n",
       "<table border=\"1\" class=\"dataframe\">\n",
       "  <thead>\n",
       "    <tr style=\"text-align: right;\">\n",
       "      <th></th>\n",
       "      <th>Gender</th>\n",
       "      <th>Married</th>\n",
       "      <th>Education</th>\n",
       "      <th>Self_Employed</th>\n",
       "      <th>ApplicantIncome</th>\n",
       "      <th>CoapplicantIncome</th>\n",
       "      <th>LoanAmount</th>\n",
       "      <th>Loan_Amount_Term</th>\n",
       "      <th>Credit_History</th>\n",
       "      <th>Loan_Status</th>\n",
       "      <th>Rural</th>\n",
       "      <th>Semiurban</th>\n",
       "      <th>Urban</th>\n",
       "      <th>0</th>\n",
       "      <th>1</th>\n",
       "      <th>2</th>\n",
       "      <th>3+</th>\n",
       "    </tr>\n",
       "  </thead>\n",
       "  <tbody>\n",
       "    <tr>\n",
       "      <th>0</th>\n",
       "      <td>1</td>\n",
       "      <td>0</td>\n",
       "      <td>0</td>\n",
       "      <td>0</td>\n",
       "      <td>0.688986</td>\n",
       "      <td>-1.119438</td>\n",
       "      <td>-0.140470</td>\n",
       "      <td>360.0</td>\n",
       "      <td>1.0</td>\n",
       "      <td>1</td>\n",
       "      <td>0</td>\n",
       "      <td>0</td>\n",
       "      <td>1</td>\n",
       "      <td>1</td>\n",
       "      <td>0</td>\n",
       "      <td>0</td>\n",
       "      <td>0</td>\n",
       "    </tr>\n",
       "    <tr>\n",
       "      <th>1</th>\n",
       "      <td>1</td>\n",
       "      <td>1</td>\n",
       "      <td>0</td>\n",
       "      <td>0</td>\n",
       "      <td>0.239843</td>\n",
       "      <td>0.748807</td>\n",
       "      <td>0.011197</td>\n",
       "      <td>360.0</td>\n",
       "      <td>1.0</td>\n",
       "      <td>0</td>\n",
       "      <td>1</td>\n",
       "      <td>0</td>\n",
       "      <td>0</td>\n",
       "      <td>0</td>\n",
       "      <td>1</td>\n",
       "      <td>0</td>\n",
       "      <td>0</td>\n",
       "    </tr>\n",
       "    <tr>\n",
       "      <th>2</th>\n",
       "      <td>1</td>\n",
       "      <td>1</td>\n",
       "      <td>0</td>\n",
       "      <td>1</td>\n",
       "      <td>-0.525799</td>\n",
       "      <td>-1.119438</td>\n",
       "      <td>-1.380101</td>\n",
       "      <td>360.0</td>\n",
       "      <td>1.0</td>\n",
       "      <td>1</td>\n",
       "      <td>0</td>\n",
       "      <td>0</td>\n",
       "      <td>1</td>\n",
       "      <td>1</td>\n",
       "      <td>0</td>\n",
       "      <td>0</td>\n",
       "      <td>0</td>\n",
       "    </tr>\n",
       "    <tr>\n",
       "      <th>3</th>\n",
       "      <td>1</td>\n",
       "      <td>1</td>\n",
       "      <td>1</td>\n",
       "      <td>0</td>\n",
       "      <td>-0.791841</td>\n",
       "      <td>0.899419</td>\n",
       "      <td>-0.140470</td>\n",
       "      <td>360.0</td>\n",
       "      <td>1.0</td>\n",
       "      <td>1</td>\n",
       "      <td>0</td>\n",
       "      <td>0</td>\n",
       "      <td>1</td>\n",
       "      <td>1</td>\n",
       "      <td>0</td>\n",
       "      <td>0</td>\n",
       "      <td>0</td>\n",
       "    </tr>\n",
       "    <tr>\n",
       "      <th>4</th>\n",
       "      <td>1</td>\n",
       "      <td>0</td>\n",
       "      <td>0</td>\n",
       "      <td>0</td>\n",
       "      <td>0.736280</td>\n",
       "      <td>-1.119438</td>\n",
       "      <td>0.245654</td>\n",
       "      <td>360.0</td>\n",
       "      <td>1.0</td>\n",
       "      <td>1</td>\n",
       "      <td>0</td>\n",
       "      <td>0</td>\n",
       "      <td>1</td>\n",
       "      <td>1</td>\n",
       "      <td>0</td>\n",
       "      <td>0</td>\n",
       "      <td>0</td>\n",
       "    </tr>\n",
       "  </tbody>\n",
       "</table>\n",
       "</div>"
      ],
      "text/plain": [
       "   Gender  Married  Education  Self_Employed  ApplicantIncome  \\\n",
       "0       1        0          0              0         0.688986   \n",
       "1       1        1          0              0         0.239843   \n",
       "2       1        1          0              1        -0.525799   \n",
       "3       1        1          1              0        -0.791841   \n",
       "4       1        0          0              0         0.736280   \n",
       "\n",
       "   CoapplicantIncome  LoanAmount  Loan_Amount_Term  Credit_History  \\\n",
       "0          -1.119438   -0.140470             360.0             1.0   \n",
       "1           0.748807    0.011197             360.0             1.0   \n",
       "2          -1.119438   -1.380101             360.0             1.0   \n",
       "3           0.899419   -0.140470             360.0             1.0   \n",
       "4          -1.119438    0.245654             360.0             1.0   \n",
       "\n",
       "   Loan_Status  Rural  Semiurban  Urban  0  1  2  3+  \n",
       "0            1      0          0      1  1  0  0   0  \n",
       "1            0      1          0      0  0  1  0   0  \n",
       "2            1      0          0      1  1  0  0   0  \n",
       "3            1      0          0      1  1  0  0   0  \n",
       "4            1      0          0      1  1  0  0   0  "
      ]
     },
     "execution_count": 34,
     "metadata": {},
     "output_type": "execute_result"
    }
   ],
   "source": [
    "data_new.head()"
   ]
  },
  {
   "cell_type": "code",
   "execution_count": 38,
   "id": "5f031547",
   "metadata": {},
   "outputs": [
    {
     "data": {
      "image/png": "[encoded data removed]",
      "text/plain": [
       "<Figure size 1080x576 with 2 Axes>"
      ]
     },
     "metadata": {
      "needs_background": "light"
     },
     "output_type": "display_data"
    }
   ],
   "source": [
    "#Let's plot heatmap\n",
    "\n",
    "plt.figure(figsize=(15,8))\n",
    "sns.heatmap(data_new.corr(),annot=False,cmap='viridis')\n",
    "plt.tick_params(labelsize=12)\n",
    "\n",
    "plt.show()"
   ]
  },
  {
   "cell_type": "markdown",
   "id": "bcc72805",
   "metadata": {},
   "source": [
    "### Splitting features and labels"
   ]
  },
  {
   "cell_type": "code",
   "execution_count": 36,
   "id": "f02d1d1d",
   "metadata": {},
   "outputs": [],
   "source": [
    "X = data_new.drop(columns = 'Loan_Status') #Features\n",
    "Y = data_new['Loan_Status'] #Label"
   ]
  },
  {
   "cell_type": "markdown",
   "id": "e02f3d62",
   "metadata": {},
   "source": [
    "#### Balance the Imbalanced label class"
   ]
  },
  {
   "cell_type": "code",
   "execution_count": 37,
   "id": "f4044626",
   "metadata": {},
   "outputs": [],
   "source": [
    "# Handiling the class having imbalance using SMOTE (Oversampling method)\n",
    "\n",
    "from imblearn.over_sampling import SMOTE\n",
    "\n",
    "sm=SMOTE()\n",
    "X_over,Y_over = sm.fit_resample(X,Y)"
   ]
  },
  {
   "cell_type": "code",
   "execution_count": 38,
   "id": "93ea7e78",
   "metadata": {},
   "outputs": [
    {
     "data": {
      "text/plain": [
       "1    50.0%\n",
       "0    50.0%\n",
       "Name: Loan_Status, dtype: object"
      ]
     },
     "execution_count": 38,
     "metadata": {},
     "output_type": "execute_result"
    }
   ],
   "source": [
    "round(Y_over.value_counts(normalize=True)*100,2).astype('str')+'%'"
   ]
  },
  {
   "cell_type": "markdown",
   "id": "d1e9c744",
   "metadata": {},
   "source": [
    "## Scaling the data"
   ]
  },
  {
   "cell_type": "code",
   "execution_count": 39,
   "id": "8cbe0214",
   "metadata": {},
   "outputs": [],
   "source": [
    "from sklearn.preprocessing import StandardScaler\n",
    "Scaler = StandardScaler()\n",
    "\n",
    "X_scaled = Scaler.fit_transform(X_over)"
   ]
  },
  {
   "cell_type": "markdown",
   "id": "fbf31aee",
   "metadata": {},
   "source": [
    "### Finding the Best Random State"
   ]
  },
  {
   "cell_type": "code",
   "execution_count": 40,
   "id": "b644c9b7",
   "metadata": {},
   "outputs": [
    {
     "name": "stdout",
     "output_type": "stream",
     "text": [
      "The best accuracy is  0.8588957055214724  with Random State  17\n"
     ]
    }
   ],
   "source": [
    "from sklearn.linear_model import LogisticRegression\n",
    "\n",
    "maxAccuracy = 0\n",
    "maxAcc = 0\n",
    "\n",
    "for i in range(200):\n",
    "    x_train,x_test,y_train,y_test = train_test_split(X_scaled,Y_over,test_size = 0.20,random_state = i)\n",
    "    LR = LogisticRegression()\n",
    "    LR.fit(x_train,y_train)\n",
    "    pred = LR.predict(x_test)\n",
    "    acc = accuracy_score(y_test,pred)\n",
    "    if acc>maxAccuracy:\n",
    "        maxAccuracy = acc\n",
    "        maxAcc = i\n",
    "        \n",
    "print('The best accuracy is ',maxAccuracy, ' with Random State ',maxAcc)"
   ]
  },
  {
   "cell_type": "markdown",
   "id": "5875601d",
   "metadata": {},
   "source": [
    "### Splitting Train and Test data"
   ]
  },
  {
   "cell_type": "code",
   "execution_count": 41,
   "id": "3e98d709",
   "metadata": {},
   "outputs": [],
   "source": [
    "#TrainTestSplit\n",
    "x_train,x_test,y_train,y_test = train_test_split(X_scaled,Y_over,test_size = 0.20,random_state = maxAcc)"
   ]
  },
  {
   "cell_type": "markdown",
   "id": "b3de7882",
   "metadata": {},
   "source": [
    "# Model Building"
   ]
  },
  {
   "cell_type": "code",
   "execution_count": 42,
   "id": "16e312b6",
   "metadata": {},
   "outputs": [],
   "source": [
    "#Importing Libraries\n",
    "\n",
    "from sklearn.linear_model import LogisticRegression\n",
    "from sklearn.svm import SVC\n",
    "from sklearn.ensemble import AdaBoostClassifier\n",
    "from sklearn.neighbors import KNeighborsClassifier\n",
    "from sklearn.tree import DecisionTreeClassifier\n",
    "from sklearn.ensemble import RandomForestClassifier"
   ]
  },
  {
   "cell_type": "markdown",
   "id": "36e7014f",
   "metadata": {},
   "source": [
    "### Model1: Logistic Regression"
   ]
  },
  {
   "cell_type": "code",
   "execution_count": 43,
   "id": "bcb4164b",
   "metadata": {},
   "outputs": [
    {
     "name": "stdout",
     "output_type": "stream",
     "text": [
      "Accuracy Score: 0.8588957055214724\n",
      "Cross Validation Score:  [0.70552147 0.71779141 0.79754601 0.88343558 0.84567901]\n",
      "Avg_Cross_Validation Score:  0.7899946981746572\n"
     ]
    }
   ],
   "source": [
    "Log_Reg = LogisticRegression()\n",
    "Log_Reg.fit(x_train,y_train) #training the model\n",
    "y_pred_log = Log_Reg.predict(x_test) #testing and predicting data\n",
    "\n",
    "#Accuracy Score\n",
    "print(\"Accuracy Score:\",accuracy_score(y_test,y_pred_log))\n",
    "A1 = accuracy_score(y_test,y_pred_log)\n",
    "\n",
    "#Cross Validation Score\n",
    "print(\"Cross Validation Score: \", cross_val_score(Log_Reg,X_scaled,Y_over,cv=5))\n",
    "print('Avg_Cross_Validation Score: ',cross_val_score(Log_Reg,X_scaled,Y_over,cv=5).mean())\n",
    "CV1 = cross_val_score(Log_Reg,X_scaled,Y_over,cv=5).mean()"
   ]
  },
  {
   "cell_type": "code",
   "execution_count": 44,
   "id": "03b77d4a",
   "metadata": {},
   "outputs": [
    {
     "data": {
      "image/png": "[encoded data removed]",
      "text/plain": [
       "<Figure size 432x288 with 2 Axes>"
      ]
     },
     "metadata": {
      "needs_background": "light"
     },
     "output_type": "display_data"
    },
    {
     "name": "stdout",
     "output_type": "stream",
     "text": [
      "              precision    recall  f1-score   support\n",
      "\n",
      "           0       0.97      0.73      0.83        78\n",
      "           1       0.80      0.98      0.88        85\n",
      "\n",
      "    accuracy                           0.86       163\n",
      "   macro avg       0.88      0.85      0.86       163\n",
      "weighted avg       0.88      0.86      0.86       163\n",
      "\n"
     ]
    }
   ],
   "source": [
    "#Confusion_matrix\n",
    "import scikitplot as skplt\n",
    "skplt.metrics.plot_confusion_matrix(y_test,y_pred_log)\n",
    "plt.show()\n",
    "\n",
    "#classification_report\n",
    "print(classification_report(y_test,y_pred_log))"
   ]
  },
  {
   "cell_type": "markdown",
   "id": "8c7ecb3e",
   "metadata": {},
   "source": [
    "### Model2: Random Forest Classifier"
   ]
  },
  {
   "cell_type": "code",
   "execution_count": 45,
   "id": "2af460fa",
   "metadata": {},
   "outputs": [],
   "source": [
    "Rand2 = RandomForestClassifier()\n",
    "Rand2.fit(x_train,y_train) #training the model\n",
    "y_pred_rand2 = Rand2.predict(x_test) #testing and predicting data\n",
    "\n",
    "#Accuracy Score\n",
    "A2 = accuracy_score(y_test,y_pred_rand2)\n",
    "\n",
    "#Cross Validation Score\n",
    "CV2 = cross_val_score(Rand2,X_scaled,Y_over,cv=5).mean()"
   ]
  },
  {
   "cell_type": "code",
   "execution_count": 46,
   "id": "0b65335e",
   "metadata": {},
   "outputs": [
    {
     "name": "stdout",
     "output_type": "stream",
     "text": [
      "Accuracy Score: 0.8588957055214724\n",
      "Cross Validation Score:  [0.7607362  0.74233129 0.85889571 0.86503067 0.87654321]\n",
      "Avg_Cross_Validation Score:  0.8207074149814437\n"
     ]
    }
   ],
   "source": [
    "#Accuracy Score\n",
    "print(\"Accuracy Score:\",A2)\n",
    "\n",
    "#Cross Validation Score\n",
    "print(\"Cross Validation Score: \", cross_val_score(Rand2,X_scaled,Y_over,cv=5))\n",
    "print('Avg_Cross_Validation Score: ',CV2)"
   ]
  },
  {
   "cell_type": "code",
   "execution_count": 47,
   "id": "058877db",
   "metadata": {},
   "outputs": [
    {
     "data": {
      "image/png": "[encoded data removed]",
      "text/plain": [
       "<Figure size 432x288 with 2 Axes>"
      ]
     },
     "metadata": {
      "needs_background": "light"
     },
     "output_type": "display_data"
    },
    {
     "name": "stdout",
     "output_type": "stream",
     "text": [
      "              precision    recall  f1-score   support\n",
      "\n",
      "           0       0.87      0.83      0.85        78\n",
      "           1       0.85      0.88      0.87        85\n",
      "\n",
      "    accuracy                           0.86       163\n",
      "   macro avg       0.86      0.86      0.86       163\n",
      "weighted avg       0.86      0.86      0.86       163\n",
      "\n"
     ]
    }
   ],
   "source": [
    "#confusion_matrix\n",
    "skplt.metrics.plot_confusion_matrix(y_test,y_pred_rand2)\n",
    "plt.show()\n",
    "\n",
    "#classification_report\n",
    "print(classification_report(y_test,y_pred_rand2))"
   ]
  },
  {
   "cell_type": "markdown",
   "id": "dacb7b9a",
   "metadata": {},
   "source": [
    "### Model3: Decision Tree Classifier"
   ]
  },
  {
   "cell_type": "code",
   "execution_count": 48,
   "id": "7aecc957",
   "metadata": {},
   "outputs": [
    {
     "name": "stdout",
     "output_type": "stream",
     "text": [
      "Accuracy Score: 0.7852760736196319\n",
      "Cross Validation Score:  [0.73006135 0.6809816  0.7607362  0.82208589 0.83333333]\n",
      "Avg_Cross_Validation Score:  0.7789366053169735\n"
     ]
    }
   ],
   "source": [
    "dt = DecisionTreeClassifier() #calling the model\n",
    "dt.fit(x_train,y_train) #training the model\n",
    "y_pred_dt = dt.predict(x_test) #testing and predicting data\n",
    "\n",
    "#Accuracy Score\n",
    "A3 = accuracy_score(y_test,y_pred_dt)\n",
    "print(\"Accuracy Score:\",A3)\n",
    "\n",
    "\n",
    "#Cross Validation Score\n",
    "print(\"Cross Validation Score: \", cross_val_score(dt,X_scaled,Y_over,cv=5))\n",
    "CV3 = cross_val_score(dt,X_scaled,Y_over,cv=5).mean()\n",
    "print('Avg_Cross_Validation Score: ',CV3)"
   ]
  },
  {
   "cell_type": "code",
   "execution_count": 49,
   "id": "b0b7e983",
   "metadata": {},
   "outputs": [
    {
     "data": {
      "image/png": "[encoded data removed]",
      "text/plain": [
       "<Figure size 432x288 with 2 Axes>"
      ]
     },
     "metadata": {
      "needs_background": "light"
     },
     "output_type": "display_data"
    },
    {
     "name": "stdout",
     "output_type": "stream",
     "text": [
      "              precision    recall  f1-score   support\n",
      "\n",
      "           0       0.77      0.78      0.78        78\n",
      "           1       0.80      0.79      0.79        85\n",
      "\n",
      "    accuracy                           0.79       163\n",
      "   macro avg       0.78      0.79      0.78       163\n",
      "weighted avg       0.79      0.79      0.79       163\n",
      "\n"
     ]
    }
   ],
   "source": [
    "#confusion_matrix\n",
    "skplt.metrics.plot_confusion_matrix(y_test,y_pred_dt)\n",
    "plt.show()\n",
    "\n",
    "#classification_report\n",
    "print(classification_report(y_test,y_pred_dt))"
   ]
  },
  {
   "cell_type": "markdown",
   "id": "cdeb1ddf",
   "metadata": {},
   "source": [
    "### Model4: KNeighbors Classifier"
   ]
  },
  {
   "cell_type": "code",
   "execution_count": 50,
   "id": "a1893e7e",
   "metadata": {},
   "outputs": [
    {
     "name": "stdout",
     "output_type": "stream",
     "text": [
      "Acicuracy Score: 0.7852760736196319\n",
      "Cross Validation Score:  [0.71165644 0.6993865  0.72392638 0.7791411  0.74074074]\n",
      "Avg_Cross_Validation Score:  0.7309702340377188\n"
     ]
    }
   ],
   "source": [
    "knn=KNeighborsClassifier() #calling the model\n",
    "knn.fit(x_train,y_train) #training the model\n",
    "y_pred_knn = knn.predict(x_test) #testing and predicting data\n",
    "\n",
    "#Accuracy Score\n",
    "A4 = accuracy_score(y_test,y_pred_knn)\n",
    "print(\"Acicuracy Score:\",A4)\n",
    "\n",
    "#Cross Validation Score\n",
    "print(\"Cross Validation Score: \", cross_val_score(knn,X_scaled,Y_over,cv=5))\n",
    "CV4 = cross_val_score(knn,X_scaled,Y_over,cv=5).mean()\n",
    "print('Avg_Cross_Validation Score: ',CV4)"
   ]
  },
  {
   "cell_type": "code",
   "execution_count": 51,
   "id": "bfc6eebc",
   "metadata": {},
   "outputs": [
    {
     "data": {
      "image/png": "[encoded data removed]",
      "text/plain": [
       "<Figure size 432x288 with 2 Axes>"
      ]
     },
     "metadata": {
      "needs_background": "light"
     },
     "output_type": "display_data"
    },
    {
     "name": "stdout",
     "output_type": "stream",
     "text": [
      "              precision    recall  f1-score   support\n",
      "\n",
      "           0       0.81      0.72      0.76        78\n",
      "           1       0.77      0.85      0.80        85\n",
      "\n",
      "    accuracy                           0.79       163\n",
      "   macro avg       0.79      0.78      0.78       163\n",
      "weighted avg       0.79      0.79      0.78       163\n",
      "\n"
     ]
    }
   ],
   "source": [
    "#confusion_matrix\n",
    "skplt.metrics.plot_confusion_matrix(y_test,y_pred_knn)\n",
    "plt.show()\n",
    "\n",
    "#classification_report\n",
    "print(classification_report(y_test,y_pred_knn))"
   ]
  },
  {
   "cell_type": "markdown",
   "id": "4abe25ac",
   "metadata": {},
   "source": [
    "### Model5: AdaBoost Classifier"
   ]
  },
  {
   "cell_type": "code",
   "execution_count": 52,
   "id": "b376cf90",
   "metadata": {},
   "outputs": [
    {
     "name": "stdout",
     "output_type": "stream",
     "text": [
      "Accuracy Score: 0.8220858895705522\n",
      "Cross Validation Score:  [0.68711656 0.73006135 0.78527607 0.79754601 0.82098765]\n",
      "Avg_Cross_Validation Score:  0.7641975308641975\n"
     ]
    }
   ],
   "source": [
    "from sklearn.ensemble import AdaBoostClassifier\n",
    "\n",
    "adb= AdaBoostClassifier(n_estimators=10) #calling the model\n",
    "adb.fit(x_train,y_train)\n",
    "y_pred_adb = adb.predict(x_test)\n",
    "\n",
    "#Accuracy Score\n",
    "A5 = accuracy_score(y_test,y_pred_adb)\n",
    "print(\"Accuracy Score:\",A5)\n",
    "\n",
    "#Cross Validation Score\n",
    "print(\"Cross Validation Score: \", cross_val_score(adb,X_scaled,Y_over,cv=5))\n",
    "CV5 = cross_val_score(adb,X_scaled,Y_over,cv=5).mean()\n",
    "print('Avg_Cross_Validation Score: ',CV5)\n"
   ]
  },
  {
   "cell_type": "code",
   "execution_count": 53,
   "id": "45ed78a0",
   "metadata": {},
   "outputs": [
    {
     "data": {
      "image/png": "[encoded data removed]",
      "text/plain": [
       "<Figure size 432x288 with 2 Axes>"
      ]
     },
     "metadata": {
      "needs_background": "light"
     },
     "output_type": "display_data"
    },
    {
     "name": "stdout",
     "output_type": "stream",
     "text": [
      "              precision    recall  f1-score   support\n",
      "\n",
      "           0       0.90      0.71      0.79        78\n",
      "           1       0.77      0.93      0.84        85\n",
      "\n",
      "    accuracy                           0.82       163\n",
      "   macro avg       0.84      0.82      0.82       163\n",
      "weighted avg       0.84      0.82      0.82       163\n",
      "\n"
     ]
    }
   ],
   "source": [
    "#confusion_matrix\n",
    "skplt.metrics.plot_confusion_matrix(y_test,y_pred_adb)\n",
    "plt.show()\n",
    "\n",
    "#classification_report\n",
    "print(classification_report(y_test,y_pred_adb))"
   ]
  },
  {
   "cell_type": "markdown",
   "id": "b1e5d02f",
   "metadata": {},
   "source": [
    "### Model6: SVC"
   ]
  },
  {
   "cell_type": "code",
   "execution_count": 54,
   "id": "ec33f3ed",
   "metadata": {},
   "outputs": [
    {
     "name": "stdout",
     "output_type": "stream",
     "text": [
      "Accuracy Score: 0.803680981595092\n",
      "Cross Validation Score:  [0.69325153 0.66871166 0.80368098 0.83435583 0.80864198]\n",
      "Avg_Cross_Validation Score:  0.7617283950617285\n"
     ]
    }
   ],
   "source": [
    "from sklearn.svm import SVC\n",
    "\n",
    "sv=SVC() #calling the model\n",
    "sv.fit(x_train,y_train) #training the model\n",
    "y_pred_sv = sv.predict(x_test) #testing and predicting data\n",
    "\n",
    "#Accuracy Score\n",
    "A6 = accuracy_score(y_test,y_pred_sv)\n",
    "print(\"Accuracy Score:\",A6)\n",
    "\n",
    "#Cross Validation Score\n",
    "print(\"Cross Validation Score: \", cross_val_score(sv,X_scaled,Y_over,cv=5))\n",
    "CV6 = cross_val_score(sv,X_scaled,Y_over,cv=5).mean()\n",
    "print('Avg_Cross_Validation Score: ',CV6)\n"
   ]
  },
  {
   "cell_type": "code",
   "execution_count": 55,
   "id": "f0d0af09",
   "metadata": {
    "scrolled": false
   },
   "outputs": [
    {
     "data": {
      "image/png": "[encoded data removed]",
      "text/plain": [
       "<Figure size 432x288 with 2 Axes>"
      ]
     },
     "metadata": {
      "needs_background": "light"
     },
     "output_type": "display_data"
    },
    {
     "name": "stdout",
     "output_type": "stream",
     "text": [
      "              precision    recall  f1-score   support\n",
      "\n",
      "           0       0.86      0.71      0.77        78\n",
      "           1       0.77      0.89      0.83        85\n",
      "\n",
      "    accuracy                           0.80       163\n",
      "   macro avg       0.81      0.80      0.80       163\n",
      "weighted avg       0.81      0.80      0.80       163\n",
      "\n"
     ]
    }
   ],
   "source": [
    "#confusion_matrix\n",
    "skplt.metrics.plot_confusion_matrix(y_test,y_pred_sv)\n",
    "plt.show()\n",
    "\n",
    "#classification_report\n",
    "print(classification_report(y_test,y_pred_sv))"
   ]
  },
  {
   "cell_type": "markdown",
   "id": "9b2ee65c",
   "metadata": {},
   "source": [
    "### Model7: BernoulliNB"
   ]
  },
  {
   "cell_type": "code",
   "execution_count": 56,
   "id": "8a8ce06a",
   "metadata": {},
   "outputs": [
    {
     "name": "stdout",
     "output_type": "stream",
     "text": [
      "Accuracy Score: 0.803680981595092\n",
      "Cross Validation Score:  [0.70552147 0.70552147 0.73619632 0.80368098 0.77777778]\n",
      "Avg_Cross_Validation Score:  0.7457396046353102\n"
     ]
    }
   ],
   "source": [
    "from sklearn.naive_bayes import BernoulliNB\n",
    "\n",
    "nb=BernoulliNB() #calling the model\n",
    "nb.fit(x_train,y_train) #training the model\n",
    "y_pred_nb = nb.predict(x_test) #testing and predicting data\n",
    "\n",
    "#Accuracy Score\n",
    "A7 = accuracy_score(y_test,y_pred_nb)\n",
    "print(\"Accuracy Score:\",A7)\n",
    "\n",
    "#Cross Validation Score\n",
    "print(\"Cross Validation Score: \", cross_val_score(nb,X_scaled,Y_over,cv=5))\n",
    "CV7 = cross_val_score(nb,X_scaled,Y_over,cv=5).mean()\n",
    "print('Avg_Cross_Validation Score: ',CV7)"
   ]
  },
  {
   "cell_type": "code",
   "execution_count": 57,
   "id": "f02640a0",
   "metadata": {},
   "outputs": [
    {
     "data": {
      "image/png": "[encoded data removed]",
      "text/plain": [
       "<Figure size 432x288 with 2 Axes>"
      ]
     },
     "metadata": {
      "needs_background": "light"
     },
     "output_type": "display_data"
    },
    {
     "name": "stdout",
     "output_type": "stream",
     "text": [
      "              precision    recall  f1-score   support\n",
      "\n",
      "           0       0.82      0.76      0.79        78\n",
      "           1       0.79      0.85      0.82        85\n",
      "\n",
      "    accuracy                           0.80       163\n",
      "   macro avg       0.81      0.80      0.80       163\n",
      "weighted avg       0.80      0.80      0.80       163\n",
      "\n"
     ]
    }
   ],
   "source": [
    "#confusion_matrix\n",
    "skplt.metrics.plot_confusion_matrix(y_test,y_pred_nb)\n",
    "plt.show()\n",
    "\n",
    "#classification_report\n",
    "print(classification_report(y_test,y_pred_nb))"
   ]
  },
  {
   "cell_type": "markdown",
   "id": "99aa983d",
   "metadata": {},
   "source": [
    "__________"
   ]
  },
  {
   "cell_type": "markdown",
   "id": "b3877c4b",
   "metadata": {},
   "source": [
    "    Let's check for our Overall scores of our models:"
   ]
  },
  {
   "cell_type": "code",
   "execution_count": 58,
   "id": "c45b7583",
   "metadata": {},
   "outputs": [],
   "source": [
    "Overall_Score = pd.DataFrame({'Model':['Logistic Regression','Random Forest Classifier','Decision Tree',\n",
    "                                       'KNeighbors Classifier','AdaBoost Classifier','SVC','BernoulliNB Classifier'],\n",
    "                              'Accuracy_Score':[A1,A2,A3,A4,A5,A6,A7],\n",
    "                              'Cross_Validation_Score':[CV1,CV2,CV3,CV4,CV5,CV6,CV7]})\n",
    "\n",
    "\n",
    "Overall_Score['Difference'] = Overall_Score['Accuracy_Score'] - Overall_Score['Cross_Validation_Score']"
   ]
  },
  {
   "cell_type": "code",
   "execution_count": 59,
   "id": "81d61c4e",
   "metadata": {},
   "outputs": [
    {
     "data": {
      "text/html": [
       "<div>\n",
       "<style scoped>\n",
       "    .dataframe tbody tr th:only-of-type {\n",
       "        vertical-align: middle;\n",
       "    }\n",
       "\n",
       "    .dataframe tbody tr th {\n",
       "        vertical-align: top;\n",
       "    }\n",
       "\n",
       "    .dataframe thead th {\n",
       "        text-align: right;\n",
       "    }\n",
       "</style>\n",
       "<table border=\"1\" class=\"dataframe\">\n",
       "  <thead>\n",
       "    <tr style=\"text-align: right;\">\n",
       "      <th></th>\n",
       "      <th>Model</th>\n",
       "      <th>Accuracy_Score</th>\n",
       "      <th>Cross_Validation_Score</th>\n",
       "      <th>Difference</th>\n",
       "    </tr>\n",
       "  </thead>\n",
       "  <tbody>\n",
       "    <tr>\n",
       "      <th>0</th>\n",
       "      <td>Logistic Regression</td>\n",
       "      <td>0.858896</td>\n",
       "      <td>0.789995</td>\n",
       "      <td>0.068901</td>\n",
       "    </tr>\n",
       "    <tr>\n",
       "      <th>1</th>\n",
       "      <td>Random Forest Classifier</td>\n",
       "      <td>0.858896</td>\n",
       "      <td>0.820707</td>\n",
       "      <td>0.038188</td>\n",
       "    </tr>\n",
       "    <tr>\n",
       "      <th>2</th>\n",
       "      <td>Decision Tree</td>\n",
       "      <td>0.785276</td>\n",
       "      <td>0.778937</td>\n",
       "      <td>0.006339</td>\n",
       "    </tr>\n",
       "    <tr>\n",
       "      <th>3</th>\n",
       "      <td>KNeighbors Classifier</td>\n",
       "      <td>0.785276</td>\n",
       "      <td>0.730970</td>\n",
       "      <td>0.054306</td>\n",
       "    </tr>\n",
       "    <tr>\n",
       "      <th>4</th>\n",
       "      <td>AdaBoost Classifier</td>\n",
       "      <td>0.822086</td>\n",
       "      <td>0.764198</td>\n",
       "      <td>0.057888</td>\n",
       "    </tr>\n",
       "    <tr>\n",
       "      <th>5</th>\n",
       "      <td>SVC</td>\n",
       "      <td>0.803681</td>\n",
       "      <td>0.761728</td>\n",
       "      <td>0.041953</td>\n",
       "    </tr>\n",
       "    <tr>\n",
       "      <th>6</th>\n",
       "      <td>BernoulliNB Classifier</td>\n",
       "      <td>0.803681</td>\n",
       "      <td>0.745740</td>\n",
       "      <td>0.057941</td>\n",
       "    </tr>\n",
       "  </tbody>\n",
       "</table>\n",
       "</div>"
      ],
      "text/plain": [
       "                      Model  Accuracy_Score  Cross_Validation_Score  \\\n",
       "0       Logistic Regression        0.858896                0.789995   \n",
       "1  Random Forest Classifier        0.858896                0.820707   \n",
       "2             Decision Tree        0.785276                0.778937   \n",
       "3     KNeighbors Classifier        0.785276                0.730970   \n",
       "4       AdaBoost Classifier        0.822086                0.764198   \n",
       "5                       SVC        0.803681                0.761728   \n",
       "6    BernoulliNB Classifier        0.803681                0.745740   \n",
       "\n",
       "   Difference  \n",
       "0    0.068901  \n",
       "1    0.038188  \n",
       "2    0.006339  \n",
       "3    0.054306  \n",
       "4    0.057888  \n",
       "5    0.041953  \n",
       "6    0.057941  "
      ]
     },
     "execution_count": 59,
     "metadata": {},
     "output_type": "execute_result"
    }
   ],
   "source": [
    "Overall_Score"
   ]
  },
  {
   "cell_type": "code",
   "execution_count": 61,
   "id": "4b1bfb89",
   "metadata": {
    "scrolled": true
   },
   "outputs": [
    {
     "data": {
      "text/plain": [
       "0.006339468302658413"
      ]
     },
     "execution_count": 61,
     "metadata": {},
     "output_type": "execute_result"
    }
   ],
   "source": [
    "Overall_Score['Difference'].min()"
   ]
  },
  {
   "cell_type": "code",
   "execution_count": 62,
   "id": "71ada9b4",
   "metadata": {
    "scrolled": true
   },
   "outputs": [
    {
     "data": {
      "text/html": [
       "<div>\n",
       "<style scoped>\n",
       "    .dataframe tbody tr th:only-of-type {\n",
       "        vertical-align: middle;\n",
       "    }\n",
       "\n",
       "    .dataframe tbody tr th {\n",
       "        vertical-align: top;\n",
       "    }\n",
       "\n",
       "    .dataframe thead th {\n",
       "        text-align: right;\n",
       "    }\n",
       "</style>\n",
       "<table border=\"1\" class=\"dataframe\">\n",
       "  <thead>\n",
       "    <tr style=\"text-align: right;\">\n",
       "      <th></th>\n",
       "      <th>Model</th>\n",
       "      <th>Accuracy_Score</th>\n",
       "      <th>Cross_Validation_Score</th>\n",
       "      <th>Difference</th>\n",
       "    </tr>\n",
       "  </thead>\n",
       "  <tbody>\n",
       "    <tr>\n",
       "      <th>2</th>\n",
       "      <td>Decision Tree</td>\n",
       "      <td>0.785276</td>\n",
       "      <td>0.778937</td>\n",
       "      <td>0.006339</td>\n",
       "    </tr>\n",
       "  </tbody>\n",
       "</table>\n",
       "</div>"
      ],
      "text/plain": [
       "           Model  Accuracy_Score  Cross_Validation_Score  Difference\n",
       "2  Decision Tree        0.785276                0.778937    0.006339"
      ]
     },
     "execution_count": 62,
     "metadata": {},
     "output_type": "execute_result"
    }
   ],
   "source": [
    "Overall_Score[Overall_Score['Difference']==0.006339468302658413]"
   ]
  },
  {
   "cell_type": "markdown",
   "id": "ebdb38d8",
   "metadata": {},
   "source": [
    "We have built many models,\n",
    "\n",
    "        But to choose the best model we checked the difference of the accuracy score and Cross Validation score\n",
    "       And we found that the \"Decision Tree Classifier\" has the minimum difference of \"0.006339468302658413 %\""
   ]
  },
  {
   "cell_type": "markdown",
   "id": "41458944",
   "metadata": {},
   "source": [
    "Hence, \"Decision Tree Classifier\" is our best model with 78.52 % accuracy score"
   ]
  },
  {
   "cell_type": "markdown",
   "id": "92a3706c",
   "metadata": {},
   "source": [
    "## Hyper Parameter Tuning"
   ]
  },
  {
   "cell_type": "code",
   "execution_count": 84,
   "id": "8a95cfb6",
   "metadata": {},
   "outputs": [
    {
     "data": {
      "text/plain": [
       "GridSearchCV(cv=5, estimator=DecisionTreeClassifier(),\n",
       "             param_grid={'criterion': ['gini'],\n",
       "                         'max_features': ['auto', 'sqrt'],\n",
       "                         'min_samples_leaf': range(0, 10),\n",
       "                         'min_samples_split': range(0, 8),\n",
       "                         'min_weight_fraction_leaf': [0.0, 0.1],\n",
       "                         'splitter': ['best', 'rand']})"
      ]
     },
     "execution_count": 84,
     "metadata": {},
     "output_type": "execute_result"
    }
   ],
   "source": [
    "#Importing library\n",
    "from sklearn.model_selection import GridSearchCV\n",
    "\n",
    "\n",
    "param_grid={'max_features':['auto','sqrt'],'min_samples_leaf':range(10),'splitter':['best','rand'],\n",
    "           'min_weight_fraction_leaf':[0.0,0.1],'min_samples_split':range(8),'criterion':['gini']}\n",
    "\n",
    "gridsearch=GridSearchCV(estimator=dt,param_grid=param_grid,cv=5)\n",
    "\n",
    "gridsearch.fit(x_train,y_train)"
   ]
  },
  {
   "cell_type": "code",
   "execution_count": 85,
   "id": "c6837023",
   "metadata": {},
   "outputs": [
    {
     "name": "stdout",
     "output_type": "stream",
     "text": [
      "0.7557956547269524 {'criterion': 'gini', 'max_features': 'auto', 'min_samples_leaf': 1, 'min_samples_split': 6, 'min_weight_fraction_leaf': 0.0, 'splitter': 'best'}\n"
     ]
    }
   ],
   "source": [
    "print(gridsearch.best_score_, gridsearch.best_params_) #Parameters"
   ]
  },
  {
   "cell_type": "code",
   "execution_count": 86,
   "id": "c9526e6f",
   "metadata": {},
   "outputs": [],
   "source": [
    "#Calling model with best parameters\n",
    "\n",
    "DT = DecisionTreeClassifier(criterion = 'gini', max_features = 'auto', min_samples_leaf = 1, \n",
    "                            min_samples_split= 6, min_weight_fraction_leaf= 0.0, splitter = 'best')  \n",
    "\n",
    "DT.fit(x_train,y_train) #train data model\n",
    "\n",
    "y_pred = DT.predict(x_test)  #predicting the test data using model"
   ]
  },
  {
   "cell_type": "markdown",
   "id": "b7110d42",
   "metadata": {},
   "source": [
    "## Saving the model for future prediction:\n"
   ]
  },
  {
   "cell_type": "code",
   "execution_count": 93,
   "id": "f5d69aba",
   "metadata": {},
   "outputs": [
    {
     "data": {
      "text/plain": [
       "['Loan_Application_Status_Prediction.obj']"
      ]
     },
     "execution_count": 93,
     "metadata": {},
     "output_type": "execute_result"
    }
   ],
   "source": [
    "import joblib\n",
    "joblib.dump(DT,'Loan_Application_Status_Prediction.obj')"
   ]
  },
  {
   "cell_type": "code",
   "execution_count": 87,
   "id": "f066a300",
   "metadata": {},
   "outputs": [
    {
     "name": "stdout",
     "output_type": "stream",
     "text": [
      "Accuracy Score: 0.8098159509202454\n",
      "Cross Validation Score:  [0.71779141 0.65030675 0.76687117 0.7607362  0.77777778]\n",
      "Avg_Cross_Validation Score:  0.7174733015223813\n"
     ]
    }
   ],
   "source": [
    "print(\"Accuracy Score:\",accuracy_score(y_test,y_pred))\n",
    "print(\"Cross Validation Score: \", cross_val_score(DT,X_scaled,Y_over,cv=5))\n",
    "print('Avg_Cross_Validation Score: ',cross_val_score(DT,X_scaled,Y_over,cv=5).mean())"
   ]
  },
  {
   "cell_type": "code",
   "execution_count": 88,
   "id": "d254ef3a",
   "metadata": {},
   "outputs": [
    {
     "name": "stdout",
     "output_type": "stream",
     "text": [
      "\n",
      "Confusion Matrix\n"
     ]
    },
    {
     "data": {
      "image/png": "[encoded data removed]",
      "text/plain": [
       "<Figure size 432x288 with 2 Axes>"
      ]
     },
     "metadata": {
      "needs_background": "light"
     },
     "output_type": "display_data"
    }
   ],
   "source": [
    "print('\\nConfusion Matrix')\n",
    "skplt.metrics.plot_confusion_matrix(y_test,y_pred)\n",
    "plt.show()"
   ]
  },
  {
   "cell_type": "code",
   "execution_count": 89,
   "id": "3f2e7006",
   "metadata": {},
   "outputs": [
    {
     "name": "stdout",
     "output_type": "stream",
     "text": [
      "\n",
      "Classification Report:\n",
      "\n",
      "               precision    recall  f1-score   support\n",
      "\n",
      "           0       0.79      0.82      0.81        78\n",
      "           1       0.83      0.80      0.81        85\n",
      "\n",
      "    accuracy                           0.81       163\n",
      "   macro avg       0.81      0.81      0.81       163\n",
      "weighted avg       0.81      0.81      0.81       163\n",
      "\n"
     ]
    }
   ],
   "source": [
    "print('\\nClassification Report:\\n\\n',classification_report(y_test,y_pred))"
   ]
  },
  {
   "cell_type": "code",
   "execution_count": 90,
   "id": "70b90c3d",
   "metadata": {},
   "outputs": [
    {
     "name": "stdout",
     "output_type": "stream",
     "text": [
      "\n",
      "Precision Recall Curve\n",
      "\n",
      "\n"
     ]
    },
    {
     "data": {
      "image/png": "[encoded data removed]",
      "text/plain": [
       "<Figure size 432x288 with 1 Axes>"
      ]
     },
     "metadata": {
      "needs_background": "light"
     },
     "output_type": "display_data"
    }
   ],
   "source": [
    "# This is a decisiontree classifier after tuning. We'll generate probabilities on the test set.\n",
    "\n",
    "import matplotlib.pyplot as plt\n",
    "import scikitplot as skplt\n",
    "\n",
    "DT.fit(x_train, y_train)\n",
    "probas = DT.predict_proba(x_test)\n",
    "\n",
    "print('\\nPrecision Recall Curve\\n\\n')\n",
    "# Now plot.\n",
    "skplt.metrics.plot_precision_recall_curve(y_test, probas)\n",
    "\n",
    "plt.show()"
   ]
  },
  {
   "cell_type": "code",
   "execution_count": 91,
   "id": "721d3bce",
   "metadata": {},
   "outputs": [
    {
     "name": "stdout",
     "output_type": "stream",
     "text": [
      "\n",
      "ROC Curve\n",
      "\n",
      "\n"
     ]
    },
    {
     "data": {
      "image/png": "[encoded data removed]",
      "text/plain": [
       "<Figure size 432x288 with 1 Axes>"
      ]
     },
     "metadata": {
      "needs_background": "light"
     },
     "output_type": "display_data"
    }
   ],
   "source": [
    "# This is a decisiontree classifier. We'll generate probabilities on the test set.\n",
    "import matplotlib.pyplot as plt\n",
    "import scikitplot as skplt\n",
    "\n",
    "DT.fit(x_train, y_train)\n",
    "probas = DT.predict_proba(x_test)\n",
    "\n",
    "print('\\nROC Curve\\n\\n')\n",
    "# Now plot.\n",
    "skplt.metrics.plot_roc(y_test, probas)\n",
    "\n",
    "plt.show()"
   ]
  },
  {
   "cell_type": "markdown",
   "id": "a1fb1743",
   "metadata": {},
   "source": [
    "### Make the predictions using the saved model"
   ]
  },
  {
   "cell_type": "code",
   "execution_count": 95,
   "id": "b0007269",
   "metadata": {},
   "outputs": [],
   "source": [
    "#Load the saved model\n",
    "\n",
    "loaded_model = joblib.load(open('Loan_Application_Status_Prediction.obj','rb'))"
   ]
  },
  {
   "cell_type": "code",
   "execution_count": 97,
   "id": "a448e465",
   "metadata": {},
   "outputs": [
    {
     "name": "stdout",
     "output_type": "stream",
     "text": [
      "Test score: 79.75 %\n"
     ]
    },
    {
     "data": {
      "text/plain": [
       "array([0, 1, 1, 1, 0, 0, 0, 1, 0, 0, 1, 1, 1, 1, 0, 1, 0, 1, 0, 0, 1, 1,\n",
       "       0, 0, 1, 1, 0, 0, 0, 0, 1, 1, 1, 0, 1, 0, 0, 1, 1, 0, 1, 0, 0, 1,\n",
       "       1, 0, 0, 0, 0, 1, 0, 0, 1, 1, 1, 0, 1, 1, 1, 1, 1, 0, 0, 1, 1, 0,\n",
       "       1, 1, 0, 0, 0, 1, 1, 0, 0, 1, 0, 0, 1, 1, 1, 1, 1, 1, 1, 0, 1, 1,\n",
       "       0, 1, 1, 1, 1, 1, 1, 1, 1, 1, 0, 0, 1, 0, 1, 0, 1, 1, 0, 1, 0, 0,\n",
       "       0, 0, 0, 1, 1, 0, 0, 0, 1, 0, 1, 0, 0, 0, 1, 0, 0, 1, 0, 0, 1, 1,\n",
       "       0, 1, 0, 0, 0, 0, 1, 0, 1, 0, 0, 1, 0, 0, 0, 0, 1, 0, 0, 0, 1, 1,\n",
       "       0, 1, 0, 1, 0, 1, 1, 1, 0])"
      ]
     },
     "execution_count": 97,
     "metadata": {},
     "output_type": "execute_result"
    }
   ],
   "source": [
    "# Calculate the accuracy score and predict target values\n",
    "\n",
    "# Calculate the Score \n",
    "score = loaded_model.score(x_test,y_test) \n",
    "\n",
    "# Print the Score\n",
    "print(\"Test score: {0:.2f} %\".format(100 * score))\n",
    "\n",
    "# Predict the Labels using the reloaded Model\n",
    "Predictions = loaded_model.predict(x_test)\n",
    "\n",
    "Predictions"
   ]
  },
  {
   "cell_type": "code",
   "execution_count": 99,
   "id": "e927222b",
   "metadata": {},
   "outputs": [
    {
     "data": {
      "image/png": "[encoded data removed]",
      "text/plain": [
       "<Figure size 1080x432 with 1 Axes>"
      ]
     },
     "metadata": {
      "needs_background": "light"
     },
     "output_type": "display_data"
    }
   ],
   "source": [
    "\n",
    "#plot predicted vs. actual values\n",
    "\n",
    "plt.figure(figsize=[15,6])\n",
    "sns.lineplot(x=Predictions, y=y_test)\n",
    "plt.xlabel('Predicted Values')\n",
    "plt.ylabel('Actual Values')\n",
    "plt.title('Predicted vs. Actual Values')\n",
    "plt.show()"
   ]
  },
  {
   "cell_type": "code",
   "execution_count": 102,
   "id": "74333581",
   "metadata": {},
   "outputs": [],
   "source": [
    "#create dataframe of actual and predicted values\n",
    "\n",
    "list_of_tuples = list(zip(y_test, Predictions))\n",
    "Result = pd.DataFrame(list_of_tuples,\n",
    "                  columns = ['Actual', 'Predicted'])"
   ]
  },
  {
   "cell_type": "code",
   "execution_count": 104,
   "id": "dfed988c",
   "metadata": {
    "scrolled": false
   },
   "outputs": [
    {
     "data": {
      "text/html": [
       "<div>\n",
       "<style scoped>\n",
       "    .dataframe tbody tr th:only-of-type {\n",
       "        vertical-align: middle;\n",
       "    }\n",
       "\n",
       "    .dataframe tbody tr th {\n",
       "        vertical-align: top;\n",
       "    }\n",
       "\n",
       "    .dataframe thead th {\n",
       "        text-align: right;\n",
       "    }\n",
       "</style>\n",
       "<table border=\"1\" class=\"dataframe\">\n",
       "  <thead>\n",
       "    <tr style=\"text-align: right;\">\n",
       "      <th></th>\n",
       "      <th>Actual</th>\n",
       "      <th>Predicted</th>\n",
       "    </tr>\n",
       "  </thead>\n",
       "  <tbody>\n",
       "    <tr>\n",
       "      <th>0</th>\n",
       "      <td>0</td>\n",
       "      <td>0</td>\n",
       "    </tr>\n",
       "    <tr>\n",
       "      <th>1</th>\n",
       "      <td>1</td>\n",
       "      <td>1</td>\n",
       "    </tr>\n",
       "    <tr>\n",
       "      <th>2</th>\n",
       "      <td>0</td>\n",
       "      <td>1</td>\n",
       "    </tr>\n",
       "    <tr>\n",
       "      <th>3</th>\n",
       "      <td>1</td>\n",
       "      <td>1</td>\n",
       "    </tr>\n",
       "    <tr>\n",
       "      <th>4</th>\n",
       "      <td>1</td>\n",
       "      <td>0</td>\n",
       "    </tr>\n",
       "    <tr>\n",
       "      <th>5</th>\n",
       "      <td>0</td>\n",
       "      <td>0</td>\n",
       "    </tr>\n",
       "    <tr>\n",
       "      <th>6</th>\n",
       "      <td>0</td>\n",
       "      <td>0</td>\n",
       "    </tr>\n",
       "    <tr>\n",
       "      <th>7</th>\n",
       "      <td>1</td>\n",
       "      <td>1</td>\n",
       "    </tr>\n",
       "    <tr>\n",
       "      <th>8</th>\n",
       "      <td>1</td>\n",
       "      <td>0</td>\n",
       "    </tr>\n",
       "    <tr>\n",
       "      <th>9</th>\n",
       "      <td>1</td>\n",
       "      <td>0</td>\n",
       "    </tr>\n",
       "    <tr>\n",
       "      <th>10</th>\n",
       "      <td>1</td>\n",
       "      <td>1</td>\n",
       "    </tr>\n",
       "    <tr>\n",
       "      <th>11</th>\n",
       "      <td>1</td>\n",
       "      <td>1</td>\n",
       "    </tr>\n",
       "    <tr>\n",
       "      <th>12</th>\n",
       "      <td>0</td>\n",
       "      <td>1</td>\n",
       "    </tr>\n",
       "    <tr>\n",
       "      <th>13</th>\n",
       "      <td>1</td>\n",
       "      <td>1</td>\n",
       "    </tr>\n",
       "    <tr>\n",
       "      <th>14</th>\n",
       "      <td>0</td>\n",
       "      <td>0</td>\n",
       "    </tr>\n",
       "    <tr>\n",
       "      <th>15</th>\n",
       "      <td>1</td>\n",
       "      <td>1</td>\n",
       "    </tr>\n",
       "    <tr>\n",
       "      <th>16</th>\n",
       "      <td>0</td>\n",
       "      <td>0</td>\n",
       "    </tr>\n",
       "    <tr>\n",
       "      <th>17</th>\n",
       "      <td>1</td>\n",
       "      <td>1</td>\n",
       "    </tr>\n",
       "    <tr>\n",
       "      <th>18</th>\n",
       "      <td>0</td>\n",
       "      <td>0</td>\n",
       "    </tr>\n",
       "    <tr>\n",
       "      <th>19</th>\n",
       "      <td>0</td>\n",
       "      <td>0</td>\n",
       "    </tr>\n",
       "    <tr>\n",
       "      <th>20</th>\n",
       "      <td>1</td>\n",
       "      <td>1</td>\n",
       "    </tr>\n",
       "    <tr>\n",
       "      <th>21</th>\n",
       "      <td>1</td>\n",
       "      <td>1</td>\n",
       "    </tr>\n",
       "    <tr>\n",
       "      <th>22</th>\n",
       "      <td>1</td>\n",
       "      <td>0</td>\n",
       "    </tr>\n",
       "    <tr>\n",
       "      <th>23</th>\n",
       "      <td>0</td>\n",
       "      <td>0</td>\n",
       "    </tr>\n",
       "    <tr>\n",
       "      <th>24</th>\n",
       "      <td>1</td>\n",
       "      <td>1</td>\n",
       "    </tr>\n",
       "    <tr>\n",
       "      <th>25</th>\n",
       "      <td>1</td>\n",
       "      <td>1</td>\n",
       "    </tr>\n",
       "    <tr>\n",
       "      <th>26</th>\n",
       "      <td>0</td>\n",
       "      <td>0</td>\n",
       "    </tr>\n",
       "    <tr>\n",
       "      <th>27</th>\n",
       "      <td>0</td>\n",
       "      <td>0</td>\n",
       "    </tr>\n",
       "    <tr>\n",
       "      <th>28</th>\n",
       "      <td>0</td>\n",
       "      <td>0</td>\n",
       "    </tr>\n",
       "    <tr>\n",
       "      <th>29</th>\n",
       "      <td>0</td>\n",
       "      <td>0</td>\n",
       "    </tr>\n",
       "    <tr>\n",
       "      <th>30</th>\n",
       "      <td>1</td>\n",
       "      <td>1</td>\n",
       "    </tr>\n",
       "    <tr>\n",
       "      <th>31</th>\n",
       "      <td>1</td>\n",
       "      <td>1</td>\n",
       "    </tr>\n",
       "    <tr>\n",
       "      <th>32</th>\n",
       "      <td>1</td>\n",
       "      <td>1</td>\n",
       "    </tr>\n",
       "    <tr>\n",
       "      <th>33</th>\n",
       "      <td>0</td>\n",
       "      <td>0</td>\n",
       "    </tr>\n",
       "    <tr>\n",
       "      <th>34</th>\n",
       "      <td>1</td>\n",
       "      <td>1</td>\n",
       "    </tr>\n",
       "    <tr>\n",
       "      <th>35</th>\n",
       "      <td>0</td>\n",
       "      <td>0</td>\n",
       "    </tr>\n",
       "    <tr>\n",
       "      <th>36</th>\n",
       "      <td>0</td>\n",
       "      <td>0</td>\n",
       "    </tr>\n",
       "    <tr>\n",
       "      <th>37</th>\n",
       "      <td>1</td>\n",
       "      <td>1</td>\n",
       "    </tr>\n",
       "    <tr>\n",
       "      <th>38</th>\n",
       "      <td>0</td>\n",
       "      <td>1</td>\n",
       "    </tr>\n",
       "    <tr>\n",
       "      <th>39</th>\n",
       "      <td>0</td>\n",
       "      <td>0</td>\n",
       "    </tr>\n",
       "    <tr>\n",
       "      <th>40</th>\n",
       "      <td>1</td>\n",
       "      <td>1</td>\n",
       "    </tr>\n",
       "    <tr>\n",
       "      <th>41</th>\n",
       "      <td>0</td>\n",
       "      <td>0</td>\n",
       "    </tr>\n",
       "    <tr>\n",
       "      <th>42</th>\n",
       "      <td>0</td>\n",
       "      <td>0</td>\n",
       "    </tr>\n",
       "    <tr>\n",
       "      <th>43</th>\n",
       "      <td>1</td>\n",
       "      <td>1</td>\n",
       "    </tr>\n",
       "    <tr>\n",
       "      <th>44</th>\n",
       "      <td>1</td>\n",
       "      <td>1</td>\n",
       "    </tr>\n",
       "    <tr>\n",
       "      <th>45</th>\n",
       "      <td>0</td>\n",
       "      <td>0</td>\n",
       "    </tr>\n",
       "    <tr>\n",
       "      <th>46</th>\n",
       "      <td>0</td>\n",
       "      <td>0</td>\n",
       "    </tr>\n",
       "    <tr>\n",
       "      <th>47</th>\n",
       "      <td>0</td>\n",
       "      <td>0</td>\n",
       "    </tr>\n",
       "    <tr>\n",
       "      <th>48</th>\n",
       "      <td>0</td>\n",
       "      <td>0</td>\n",
       "    </tr>\n",
       "    <tr>\n",
       "      <th>49</th>\n",
       "      <td>1</td>\n",
       "      <td>1</td>\n",
       "    </tr>\n",
       "    <tr>\n",
       "      <th>50</th>\n",
       "      <td>0</td>\n",
       "      <td>0</td>\n",
       "    </tr>\n",
       "    <tr>\n",
       "      <th>51</th>\n",
       "      <td>0</td>\n",
       "      <td>0</td>\n",
       "    </tr>\n",
       "    <tr>\n",
       "      <th>52</th>\n",
       "      <td>1</td>\n",
       "      <td>1</td>\n",
       "    </tr>\n",
       "    <tr>\n",
       "      <th>53</th>\n",
       "      <td>1</td>\n",
       "      <td>1</td>\n",
       "    </tr>\n",
       "    <tr>\n",
       "      <th>54</th>\n",
       "      <td>1</td>\n",
       "      <td>1</td>\n",
       "    </tr>\n",
       "    <tr>\n",
       "      <th>55</th>\n",
       "      <td>0</td>\n",
       "      <td>0</td>\n",
       "    </tr>\n",
       "    <tr>\n",
       "      <th>56</th>\n",
       "      <td>1</td>\n",
       "      <td>1</td>\n",
       "    </tr>\n",
       "    <tr>\n",
       "      <th>57</th>\n",
       "      <td>1</td>\n",
       "      <td>1</td>\n",
       "    </tr>\n",
       "    <tr>\n",
       "      <th>58</th>\n",
       "      <td>1</td>\n",
       "      <td>1</td>\n",
       "    </tr>\n",
       "    <tr>\n",
       "      <th>59</th>\n",
       "      <td>0</td>\n",
       "      <td>1</td>\n",
       "    </tr>\n",
       "    <tr>\n",
       "      <th>60</th>\n",
       "      <td>1</td>\n",
       "      <td>1</td>\n",
       "    </tr>\n",
       "    <tr>\n",
       "      <th>61</th>\n",
       "      <td>0</td>\n",
       "      <td>0</td>\n",
       "    </tr>\n",
       "    <tr>\n",
       "      <th>62</th>\n",
       "      <td>1</td>\n",
       "      <td>0</td>\n",
       "    </tr>\n",
       "    <tr>\n",
       "      <th>63</th>\n",
       "      <td>1</td>\n",
       "      <td>1</td>\n",
       "    </tr>\n",
       "    <tr>\n",
       "      <th>64</th>\n",
       "      <td>1</td>\n",
       "      <td>1</td>\n",
       "    </tr>\n",
       "    <tr>\n",
       "      <th>65</th>\n",
       "      <td>1</td>\n",
       "      <td>0</td>\n",
       "    </tr>\n",
       "    <tr>\n",
       "      <th>66</th>\n",
       "      <td>0</td>\n",
       "      <td>1</td>\n",
       "    </tr>\n",
       "    <tr>\n",
       "      <th>67</th>\n",
       "      <td>1</td>\n",
       "      <td>1</td>\n",
       "    </tr>\n",
       "    <tr>\n",
       "      <th>68</th>\n",
       "      <td>0</td>\n",
       "      <td>0</td>\n",
       "    </tr>\n",
       "    <tr>\n",
       "      <th>69</th>\n",
       "      <td>0</td>\n",
       "      <td>0</td>\n",
       "    </tr>\n",
       "    <tr>\n",
       "      <th>70</th>\n",
       "      <td>0</td>\n",
       "      <td>0</td>\n",
       "    </tr>\n",
       "    <tr>\n",
       "      <th>71</th>\n",
       "      <td>1</td>\n",
       "      <td>1</td>\n",
       "    </tr>\n",
       "    <tr>\n",
       "      <th>72</th>\n",
       "      <td>1</td>\n",
       "      <td>1</td>\n",
       "    </tr>\n",
       "    <tr>\n",
       "      <th>73</th>\n",
       "      <td>1</td>\n",
       "      <td>0</td>\n",
       "    </tr>\n",
       "    <tr>\n",
       "      <th>74</th>\n",
       "      <td>1</td>\n",
       "      <td>0</td>\n",
       "    </tr>\n",
       "    <tr>\n",
       "      <th>75</th>\n",
       "      <td>0</td>\n",
       "      <td>1</td>\n",
       "    </tr>\n",
       "    <tr>\n",
       "      <th>76</th>\n",
       "      <td>0</td>\n",
       "      <td>0</td>\n",
       "    </tr>\n",
       "    <tr>\n",
       "      <th>77</th>\n",
       "      <td>0</td>\n",
       "      <td>0</td>\n",
       "    </tr>\n",
       "    <tr>\n",
       "      <th>78</th>\n",
       "      <td>1</td>\n",
       "      <td>1</td>\n",
       "    </tr>\n",
       "    <tr>\n",
       "      <th>79</th>\n",
       "      <td>1</td>\n",
       "      <td>1</td>\n",
       "    </tr>\n",
       "    <tr>\n",
       "      <th>80</th>\n",
       "      <td>0</td>\n",
       "      <td>1</td>\n",
       "    </tr>\n",
       "    <tr>\n",
       "      <th>81</th>\n",
       "      <td>1</td>\n",
       "      <td>1</td>\n",
       "    </tr>\n",
       "    <tr>\n",
       "      <th>82</th>\n",
       "      <td>1</td>\n",
       "      <td>1</td>\n",
       "    </tr>\n",
       "    <tr>\n",
       "      <th>83</th>\n",
       "      <td>1</td>\n",
       "      <td>1</td>\n",
       "    </tr>\n",
       "    <tr>\n",
       "      <th>84</th>\n",
       "      <td>1</td>\n",
       "      <td>1</td>\n",
       "    </tr>\n",
       "    <tr>\n",
       "      <th>85</th>\n",
       "      <td>0</td>\n",
       "      <td>0</td>\n",
       "    </tr>\n",
       "    <tr>\n",
       "      <th>86</th>\n",
       "      <td>1</td>\n",
       "      <td>1</td>\n",
       "    </tr>\n",
       "    <tr>\n",
       "      <th>87</th>\n",
       "      <td>1</td>\n",
       "      <td>1</td>\n",
       "    </tr>\n",
       "    <tr>\n",
       "      <th>88</th>\n",
       "      <td>1</td>\n",
       "      <td>0</td>\n",
       "    </tr>\n",
       "    <tr>\n",
       "      <th>89</th>\n",
       "      <td>1</td>\n",
       "      <td>1</td>\n",
       "    </tr>\n",
       "    <tr>\n",
       "      <th>90</th>\n",
       "      <td>1</td>\n",
       "      <td>1</td>\n",
       "    </tr>\n",
       "    <tr>\n",
       "      <th>91</th>\n",
       "      <td>0</td>\n",
       "      <td>1</td>\n",
       "    </tr>\n",
       "    <tr>\n",
       "      <th>92</th>\n",
       "      <td>1</td>\n",
       "      <td>1</td>\n",
       "    </tr>\n",
       "    <tr>\n",
       "      <th>93</th>\n",
       "      <td>1</td>\n",
       "      <td>1</td>\n",
       "    </tr>\n",
       "    <tr>\n",
       "      <th>94</th>\n",
       "      <td>1</td>\n",
       "      <td>1</td>\n",
       "    </tr>\n",
       "    <tr>\n",
       "      <th>95</th>\n",
       "      <td>1</td>\n",
       "      <td>1</td>\n",
       "    </tr>\n",
       "    <tr>\n",
       "      <th>96</th>\n",
       "      <td>1</td>\n",
       "      <td>1</td>\n",
       "    </tr>\n",
       "    <tr>\n",
       "      <th>97</th>\n",
       "      <td>1</td>\n",
       "      <td>1</td>\n",
       "    </tr>\n",
       "    <tr>\n",
       "      <th>98</th>\n",
       "      <td>0</td>\n",
       "      <td>0</td>\n",
       "    </tr>\n",
       "    <tr>\n",
       "      <th>99</th>\n",
       "      <td>0</td>\n",
       "      <td>0</td>\n",
       "    </tr>\n",
       "    <tr>\n",
       "      <th>100</th>\n",
       "      <td>0</td>\n",
       "      <td>1</td>\n",
       "    </tr>\n",
       "    <tr>\n",
       "      <th>101</th>\n",
       "      <td>0</td>\n",
       "      <td>0</td>\n",
       "    </tr>\n",
       "    <tr>\n",
       "      <th>102</th>\n",
       "      <td>1</td>\n",
       "      <td>1</td>\n",
       "    </tr>\n",
       "    <tr>\n",
       "      <th>103</th>\n",
       "      <td>1</td>\n",
       "      <td>0</td>\n",
       "    </tr>\n",
       "    <tr>\n",
       "      <th>104</th>\n",
       "      <td>0</td>\n",
       "      <td>1</td>\n",
       "    </tr>\n",
       "    <tr>\n",
       "      <th>105</th>\n",
       "      <td>1</td>\n",
       "      <td>1</td>\n",
       "    </tr>\n",
       "    <tr>\n",
       "      <th>106</th>\n",
       "      <td>0</td>\n",
       "      <td>0</td>\n",
       "    </tr>\n",
       "    <tr>\n",
       "      <th>107</th>\n",
       "      <td>1</td>\n",
       "      <td>1</td>\n",
       "    </tr>\n",
       "    <tr>\n",
       "      <th>108</th>\n",
       "      <td>0</td>\n",
       "      <td>0</td>\n",
       "    </tr>\n",
       "    <tr>\n",
       "      <th>109</th>\n",
       "      <td>0</td>\n",
       "      <td>0</td>\n",
       "    </tr>\n",
       "    <tr>\n",
       "      <th>110</th>\n",
       "      <td>1</td>\n",
       "      <td>0</td>\n",
       "    </tr>\n",
       "    <tr>\n",
       "      <th>111</th>\n",
       "      <td>0</td>\n",
       "      <td>0</td>\n",
       "    </tr>\n",
       "    <tr>\n",
       "      <th>112</th>\n",
       "      <td>0</td>\n",
       "      <td>0</td>\n",
       "    </tr>\n",
       "    <tr>\n",
       "      <th>113</th>\n",
       "      <td>1</td>\n",
       "      <td>1</td>\n",
       "    </tr>\n",
       "    <tr>\n",
       "      <th>114</th>\n",
       "      <td>1</td>\n",
       "      <td>1</td>\n",
       "    </tr>\n",
       "    <tr>\n",
       "      <th>115</th>\n",
       "      <td>0</td>\n",
       "      <td>0</td>\n",
       "    </tr>\n",
       "    <tr>\n",
       "      <th>116</th>\n",
       "      <td>0</td>\n",
       "      <td>0</td>\n",
       "    </tr>\n",
       "    <tr>\n",
       "      <th>117</th>\n",
       "      <td>1</td>\n",
       "      <td>0</td>\n",
       "    </tr>\n",
       "    <tr>\n",
       "      <th>118</th>\n",
       "      <td>0</td>\n",
       "      <td>1</td>\n",
       "    </tr>\n",
       "    <tr>\n",
       "      <th>119</th>\n",
       "      <td>0</td>\n",
       "      <td>0</td>\n",
       "    </tr>\n",
       "    <tr>\n",
       "      <th>120</th>\n",
       "      <td>1</td>\n",
       "      <td>1</td>\n",
       "    </tr>\n",
       "    <tr>\n",
       "      <th>121</th>\n",
       "      <td>0</td>\n",
       "      <td>0</td>\n",
       "    </tr>\n",
       "    <tr>\n",
       "      <th>122</th>\n",
       "      <td>0</td>\n",
       "      <td>0</td>\n",
       "    </tr>\n",
       "    <tr>\n",
       "      <th>123</th>\n",
       "      <td>1</td>\n",
       "      <td>0</td>\n",
       "    </tr>\n",
       "    <tr>\n",
       "      <th>124</th>\n",
       "      <td>1</td>\n",
       "      <td>1</td>\n",
       "    </tr>\n",
       "    <tr>\n",
       "      <th>125</th>\n",
       "      <td>1</td>\n",
       "      <td>0</td>\n",
       "    </tr>\n",
       "    <tr>\n",
       "      <th>126</th>\n",
       "      <td>0</td>\n",
       "      <td>0</td>\n",
       "    </tr>\n",
       "    <tr>\n",
       "      <th>127</th>\n",
       "      <td>1</td>\n",
       "      <td>1</td>\n",
       "    </tr>\n",
       "    <tr>\n",
       "      <th>128</th>\n",
       "      <td>1</td>\n",
       "      <td>0</td>\n",
       "    </tr>\n",
       "    <tr>\n",
       "      <th>129</th>\n",
       "      <td>0</td>\n",
       "      <td>0</td>\n",
       "    </tr>\n",
       "    <tr>\n",
       "      <th>130</th>\n",
       "      <td>1</td>\n",
       "      <td>1</td>\n",
       "    </tr>\n",
       "    <tr>\n",
       "      <th>131</th>\n",
       "      <td>1</td>\n",
       "      <td>1</td>\n",
       "    </tr>\n",
       "    <tr>\n",
       "      <th>132</th>\n",
       "      <td>0</td>\n",
       "      <td>0</td>\n",
       "    </tr>\n",
       "    <tr>\n",
       "      <th>133</th>\n",
       "      <td>0</td>\n",
       "      <td>1</td>\n",
       "    </tr>\n",
       "    <tr>\n",
       "      <th>134</th>\n",
       "      <td>0</td>\n",
       "      <td>0</td>\n",
       "    </tr>\n",
       "    <tr>\n",
       "      <th>135</th>\n",
       "      <td>1</td>\n",
       "      <td>0</td>\n",
       "    </tr>\n",
       "    <tr>\n",
       "      <th>136</th>\n",
       "      <td>0</td>\n",
       "      <td>0</td>\n",
       "    </tr>\n",
       "    <tr>\n",
       "      <th>137</th>\n",
       "      <td>0</td>\n",
       "      <td>0</td>\n",
       "    </tr>\n",
       "    <tr>\n",
       "      <th>138</th>\n",
       "      <td>0</td>\n",
       "      <td>1</td>\n",
       "    </tr>\n",
       "    <tr>\n",
       "      <th>139</th>\n",
       "      <td>0</td>\n",
       "      <td>0</td>\n",
       "    </tr>\n",
       "    <tr>\n",
       "      <th>140</th>\n",
       "      <td>1</td>\n",
       "      <td>1</td>\n",
       "    </tr>\n",
       "    <tr>\n",
       "      <th>141</th>\n",
       "      <td>0</td>\n",
       "      <td>0</td>\n",
       "    </tr>\n",
       "    <tr>\n",
       "      <th>142</th>\n",
       "      <td>0</td>\n",
       "      <td>0</td>\n",
       "    </tr>\n",
       "    <tr>\n",
       "      <th>143</th>\n",
       "      <td>1</td>\n",
       "      <td>1</td>\n",
       "    </tr>\n",
       "    <tr>\n",
       "      <th>144</th>\n",
       "      <td>0</td>\n",
       "      <td>0</td>\n",
       "    </tr>\n",
       "    <tr>\n",
       "      <th>145</th>\n",
       "      <td>1</td>\n",
       "      <td>0</td>\n",
       "    </tr>\n",
       "    <tr>\n",
       "      <th>146</th>\n",
       "      <td>0</td>\n",
       "      <td>0</td>\n",
       "    </tr>\n",
       "    <tr>\n",
       "      <th>147</th>\n",
       "      <td>0</td>\n",
       "      <td>0</td>\n",
       "    </tr>\n",
       "    <tr>\n",
       "      <th>148</th>\n",
       "      <td>1</td>\n",
       "      <td>1</td>\n",
       "    </tr>\n",
       "    <tr>\n",
       "      <th>149</th>\n",
       "      <td>0</td>\n",
       "      <td>0</td>\n",
       "    </tr>\n",
       "    <tr>\n",
       "      <th>150</th>\n",
       "      <td>0</td>\n",
       "      <td>0</td>\n",
       "    </tr>\n",
       "    <tr>\n",
       "      <th>151</th>\n",
       "      <td>0</td>\n",
       "      <td>0</td>\n",
       "    </tr>\n",
       "    <tr>\n",
       "      <th>152</th>\n",
       "      <td>1</td>\n",
       "      <td>1</td>\n",
       "    </tr>\n",
       "    <tr>\n",
       "      <th>153</th>\n",
       "      <td>1</td>\n",
       "      <td>1</td>\n",
       "    </tr>\n",
       "    <tr>\n",
       "      <th>154</th>\n",
       "      <td>0</td>\n",
       "      <td>0</td>\n",
       "    </tr>\n",
       "    <tr>\n",
       "      <th>155</th>\n",
       "      <td>1</td>\n",
       "      <td>1</td>\n",
       "    </tr>\n",
       "    <tr>\n",
       "      <th>156</th>\n",
       "      <td>0</td>\n",
       "      <td>0</td>\n",
       "    </tr>\n",
       "    <tr>\n",
       "      <th>157</th>\n",
       "      <td>1</td>\n",
       "      <td>1</td>\n",
       "    </tr>\n",
       "    <tr>\n",
       "      <th>158</th>\n",
       "      <td>1</td>\n",
       "      <td>0</td>\n",
       "    </tr>\n",
       "    <tr>\n",
       "      <th>159</th>\n",
       "      <td>0</td>\n",
       "      <td>1</td>\n",
       "    </tr>\n",
       "    <tr>\n",
       "      <th>160</th>\n",
       "      <td>0</td>\n",
       "      <td>1</td>\n",
       "    </tr>\n",
       "    <tr>\n",
       "      <th>161</th>\n",
       "      <td>1</td>\n",
       "      <td>1</td>\n",
       "    </tr>\n",
       "    <tr>\n",
       "      <th>162</th>\n",
       "      <td>0</td>\n",
       "      <td>0</td>\n",
       "    </tr>\n",
       "  </tbody>\n",
       "</table>\n",
       "</div>"
      ],
      "text/plain": [
       "     Actual  Predicted\n",
       "0         0          0\n",
       "1         1          1\n",
       "2         0          1\n",
       "3         1          1\n",
       "4         1          0\n",
       "5         0          0\n",
       "6         0          0\n",
       "7         1          1\n",
       "8         1          0\n",
       "9         1          0\n",
       "10        1          1\n",
       "11        1          1\n",
       "12        0          1\n",
       "13        1          1\n",
       "14        0          0\n",
       "15        1          1\n",
       "16        0          0\n",
       "17        1          1\n",
       "18        0          0\n",
       "19        0          0\n",
       "20        1          1\n",
       "21        1          1\n",
       "22        1          0\n",
       "23        0          0\n",
       "24        1          1\n",
       "25        1          1\n",
       "26        0          0\n",
       "27        0          0\n",
       "28        0          0\n",
       "29        0          0\n",
       "30        1          1\n",
       "31        1          1\n",
       "32        1          1\n",
       "33        0          0\n",
       "34        1          1\n",
       "35        0          0\n",
       "36        0          0\n",
       "37        1          1\n",
       "38        0          1\n",
       "39        0          0\n",
       "40        1          1\n",
       "41        0          0\n",
       "42        0          0\n",
       "43        1          1\n",
       "44        1          1\n",
       "45        0          0\n",
       "46        0          0\n",
       "47        0          0\n",
       "48        0          0\n",
       "49        1          1\n",
       "50        0          0\n",
       "51        0          0\n",
       "52        1          1\n",
       "53        1          1\n",
       "54        1          1\n",
       "55        0          0\n",
       "56        1          1\n",
       "57        1          1\n",
       "58        1          1\n",
       "59        0          1\n",
       "60        1          1\n",
       "61        0          0\n",
       "62        1          0\n",
       "63        1          1\n",
       "64        1          1\n",
       "65        1          0\n",
       "66        0          1\n",
       "67        1          1\n",
       "68        0          0\n",
       "69        0          0\n",
       "70        0          0\n",
       "71        1          1\n",
       "72        1          1\n",
       "73        1          0\n",
       "74        1          0\n",
       "75        0          1\n",
       "76        0          0\n",
       "77        0          0\n",
       "78        1          1\n",
       "79        1          1\n",
       "80        0          1\n",
       "81        1          1\n",
       "82        1          1\n",
       "83        1          1\n",
       "84        1          1\n",
       "85        0          0\n",
       "86        1          1\n",
       "87        1          1\n",
       "88        1          0\n",
       "89        1          1\n",
       "90        1          1\n",
       "91        0          1\n",
       "92        1          1\n",
       "93        1          1\n",
       "94        1          1\n",
       "95        1          1\n",
       "96        1          1\n",
       "97        1          1\n",
       "98        0          0\n",
       "99        0          0\n",
       "100       0          1\n",
       "101       0          0\n",
       "102       1          1\n",
       "103       1          0\n",
       "104       0          1\n",
       "105       1          1\n",
       "106       0          0\n",
       "107       1          1\n",
       "108       0          0\n",
       "109       0          0\n",
       "110       1          0\n",
       "111       0          0\n",
       "112       0          0\n",
       "113       1          1\n",
       "114       1          1\n",
       "115       0          0\n",
       "116       0          0\n",
       "117       1          0\n",
       "118       0          1\n",
       "119       0          0\n",
       "120       1          1\n",
       "121       0          0\n",
       "122       0          0\n",
       "123       1          0\n",
       "124       1          1\n",
       "125       1          0\n",
       "126       0          0\n",
       "127       1          1\n",
       "128       1          0\n",
       "129       0          0\n",
       "130       1          1\n",
       "131       1          1\n",
       "132       0          0\n",
       "133       0          1\n",
       "134       0          0\n",
       "135       1          0\n",
       "136       0          0\n",
       "137       0          0\n",
       "138       0          1\n",
       "139       0          0\n",
       "140       1          1\n",
       "141       0          0\n",
       "142       0          0\n",
       "143       1          1\n",
       "144       0          0\n",
       "145       1          0\n",
       "146       0          0\n",
       "147       0          0\n",
       "148       1          1\n",
       "149       0          0\n",
       "150       0          0\n",
       "151       0          0\n",
       "152       1          1\n",
       "153       1          1\n",
       "154       0          0\n",
       "155       1          1\n",
       "156       0          0\n",
       "157       1          1\n",
       "158       1          0\n",
       "159       0          1\n",
       "160       0          1\n",
       "161       1          1\n",
       "162       0          0"
      ]
     },
     "execution_count": 104,
     "metadata": {},
     "output_type": "execute_result"
    }
   ],
   "source": [
    "pd.set_option('display.max_rows', None)   #display the maximum rows\n",
    "\n",
    "Result   #Show the actual and predicted data values"
   ]
  },
  {
   "cell_type": "markdown",
   "id": "4b7b20a4",
   "metadata": {},
   "source": [
    "_____________"
   ]
  },
  {
   "cell_type": "markdown",
   "id": "7823f24d",
   "metadata": {},
   "source": [
    "### Our model is now ready to predict Census Income of a person with \"Test score: 79.75 %\" and \"accuracy score: 80.98 %\""
   ]
  },
  {
   "cell_type": "markdown",
   "id": "178c1a3f",
   "metadata": {},
   "source": [
    "__________"
   ]
  }
 ],
 "metadata": {
  "kernelspec": {
   "display_name": "Python 3",
   "language": "python",
   "name": "python3"
  },
  "language_info": {
   "codemirror_mode": {
    "name": "ipython",
    "version": 3
   },
   "file_extension": ".py",
   "mimetype": "text/x-python",
   "name": "python",
   "nbconvert_exporter": "python",
   "pygments_lexer": "ipython3",
   "version": "3.8.8"
  }
 },
 "nbformat": 4,
 "nbformat_minor": 5
}
